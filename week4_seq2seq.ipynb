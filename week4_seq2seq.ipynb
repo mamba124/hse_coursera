{
  "nbformat": 4,
  "nbformat_minor": 0,
  "metadata": {
    "kernelspec": {
      "display_name": "Python 3",
      "language": "python",
      "name": "python3"
    },
    "language_info": {
      "codemirror_mode": {
        "name": "ipython",
        "version": 3
      },
      "file_extension": ".py",
      "mimetype": "text/x-python",
      "name": "python",
      "nbconvert_exporter": "python",
      "pygments_lexer": "ipython3",
      "version": "3.4.3"
    },
    "colab": {
      "name": "week4-seq2seq.ipynb",
      "provenance": [],
      "collapsed_sections": [],
      "include_colab_link": true
    },
    "accelerator": "GPU"
  },
  "cells": [
    {
      "cell_type": "markdown",
      "metadata": {
        "id": "view-in-github",
        "colab_type": "text"
      },
      "source": [
        "<a href=\"https://colab.research.google.com/github/mamba124/hse_coursera/blob/master/week4_seq2seq.ipynb\" target=\"_parent\"><img src=\"https://colab.research.google.com/assets/colab-badge.svg\" alt=\"Open In Colab\"/></a>"
      ]
    },
    {
      "cell_type": "markdown",
      "metadata": {
        "id": "2SzFpQ2lhnAv",
        "colab_type": "text"
      },
      "source": [
        "# Learn to calculate with seq2seq model\n",
        "\n",
        "In this assignment, you will learn how to use neural networks to solve sequence-to-sequence prediction tasks. Seq2Seq models are very popular these days because they achieve great results in Machine Translation, Text Summarization, Conversational Modeling and more.\n",
        "\n",
        "Using sequence-to-sequence modeling you are going to build a calculator for evaluating arithmetic expressions, by taking an equation as an input to the neural network and producing an answer as it's output.\n",
        "\n",
        "The resulting solution for this problem will be based on state-of-the-art approaches for sequence-to-sequence learning and you should be able to easily adapt it to solve other tasks. However, if you want to train your own machine translation system or intellectual chat bot, it would be useful to have access to compute resources like GPU, and be patient, because training of such systems is usually time consuming. \n",
        "\n",
        "### Libraries\n",
        "\n",
        "For this task you will need the following libraries:\n",
        " - [TensorFlow](https://www.tensorflow.org) — an open-source software library for Machine Intelligence.\n",
        " \n",
        "In this assignment, we use Tensorflow 1.15.0. You can install it with pip:\n",
        "\n",
        "    !pip install tensorflow==1.15.0\n",
        "     \n",
        " - [scikit-learn](http://scikit-learn.org/stable/index.html) — a tool for data mining and data analysis.\n",
        " \n",
        "If you have never worked with TensorFlow, you will probably want to read some tutorials during your work on this assignment, e.g. [Neural Machine Translation](https://www.tensorflow.org/tutorials/seq2seq) tutorial deals with very similar task and can explain some concepts to you. "
      ]
    },
    {
      "cell_type": "code",
      "metadata": {
        "id": "ZlW9xHF5l3XE",
        "colab_type": "code",
        "colab": {
          "base_uri": "https://localhost:8080/",
          "height": 34
        },
        "outputId": "e720185b-760b-47db-8000-2c97223fc74e"
      },
      "source": [
        "import tensorflow as tf \n",
        "tf.__version__"
      ],
      "execution_count": 1,
      "outputs": [
        {
          "output_type": "execute_result",
          "data": {
            "text/plain": [
              "'1.15.0'"
            ]
          },
          "metadata": {
            "tags": []
          },
          "execution_count": 1
        }
      ]
    },
    {
      "cell_type": "code",
      "metadata": {
        "id": "BnDQBFhyhxz4",
        "colab_type": "code",
        "colab": {
          "base_uri": "https://localhost:8080/",
          "height": 243
        },
        "outputId": "ee27983f-dd75-4f9d-90f0-7b9f22194086"
      },
      "source": [
        "!pip uninstall tensorflow"
      ],
      "execution_count": 2,
      "outputs": [
        {
          "output_type": "stream",
          "text": [
            "Uninstalling tensorflow-2.2.0:\n",
            "  Would remove:\n",
            "    /usr/local/bin/estimator_ckpt_converter\n",
            "    /usr/local/bin/saved_model_cli\n",
            "    /usr/local/bin/tensorboard\n",
            "    /usr/local/bin/tf_upgrade_v2\n",
            "    /usr/local/bin/tflite_convert\n",
            "    /usr/local/bin/toco\n",
            "    /usr/local/bin/toco_from_protos\n",
            "    /usr/local/lib/python3.6/dist-packages/tensorflow-2.2.0.dist-info/*\n",
            "    /usr/local/lib/python3.6/dist-packages/tensorflow/*\n",
            "Proceed (y/n)? y\n",
            "  Successfully uninstalled tensorflow-2.2.0\n"
          ],
          "name": "stdout"
        }
      ]
    },
    {
      "cell_type": "code",
      "metadata": {
        "id": "JfkIXN9hhv0P",
        "colab_type": "code",
        "colab": {
          "base_uri": "https://localhost:8080/",
          "height": 887
        },
        "outputId": "f82709a4-5450-4de1-e270-95341c751e72"
      },
      "source": [
        "!pip install tensorflow==1.15.0"
      ],
      "execution_count": 3,
      "outputs": [
        {
          "output_type": "stream",
          "text": [
            "Collecting tensorflow==1.15.0\n",
            "\u001b[?25l  Downloading https://files.pythonhosted.org/packages/3f/98/5a99af92fb911d7a88a0005ad55005f35b4c1ba8d75fba02df726cd936e6/tensorflow-1.15.0-cp36-cp36m-manylinux2010_x86_64.whl (412.3MB)\n",
            "\u001b[K     |████████████████████████████████| 412.3MB 32kB/s \n",
            "\u001b[?25hRequirement already satisfied: wheel>=0.26 in /usr/local/lib/python3.6/dist-packages (from tensorflow==1.15.0) (0.34.2)\n",
            "Requirement already satisfied: astor>=0.6.0 in /usr/local/lib/python3.6/dist-packages (from tensorflow==1.15.0) (0.8.1)\n",
            "Requirement already satisfied: absl-py>=0.7.0 in /usr/local/lib/python3.6/dist-packages (from tensorflow==1.15.0) (0.9.0)\n",
            "Collecting tensorboard<1.16.0,>=1.15.0\n",
            "\u001b[?25l  Downloading https://files.pythonhosted.org/packages/1e/e9/d3d747a97f7188f48aa5eda486907f3b345cd409f0a0850468ba867db246/tensorboard-1.15.0-py3-none-any.whl (3.8MB)\n",
            "\u001b[K     |████████████████████████████████| 3.8MB 35.8MB/s \n",
            "\u001b[?25hRequirement already satisfied: keras-applications>=1.0.8 in /usr/local/lib/python3.6/dist-packages (from tensorflow==1.15.0) (1.0.8)\n",
            "Requirement already satisfied: numpy<2.0,>=1.16.0 in /usr/local/lib/python3.6/dist-packages (from tensorflow==1.15.0) (1.18.4)\n",
            "Requirement already satisfied: six>=1.10.0 in /usr/local/lib/python3.6/dist-packages (from tensorflow==1.15.0) (1.12.0)\n",
            "Requirement already satisfied: keras-preprocessing>=1.0.5 in /usr/local/lib/python3.6/dist-packages (from tensorflow==1.15.0) (1.1.0)\n",
            "Collecting gast==0.2.2\n",
            "  Downloading https://files.pythonhosted.org/packages/4e/35/11749bf99b2d4e3cceb4d55ca22590b0d7c2c62b9de38ac4a4a7f4687421/gast-0.2.2.tar.gz\n",
            "Requirement already satisfied: opt-einsum>=2.3.2 in /usr/local/lib/python3.6/dist-packages (from tensorflow==1.15.0) (3.2.1)\n",
            "Requirement already satisfied: protobuf>=3.6.1 in /usr/local/lib/python3.6/dist-packages (from tensorflow==1.15.0) (3.10.0)\n",
            "Requirement already satisfied: wrapt>=1.11.1 in /usr/local/lib/python3.6/dist-packages (from tensorflow==1.15.0) (1.12.1)\n",
            "Collecting tensorflow-estimator==1.15.1\n",
            "\u001b[?25l  Downloading https://files.pythonhosted.org/packages/de/62/2ee9cd74c9fa2fa450877847ba560b260f5d0fb70ee0595203082dafcc9d/tensorflow_estimator-1.15.1-py2.py3-none-any.whl (503kB)\n",
            "\u001b[K     |████████████████████████████████| 512kB 37.0MB/s \n",
            "\u001b[?25hRequirement already satisfied: google-pasta>=0.1.6 in /usr/local/lib/python3.6/dist-packages (from tensorflow==1.15.0) (0.2.0)\n",
            "Requirement already satisfied: grpcio>=1.8.6 in /usr/local/lib/python3.6/dist-packages (from tensorflow==1.15.0) (1.28.1)\n",
            "Requirement already satisfied: termcolor>=1.1.0 in /usr/local/lib/python3.6/dist-packages (from tensorflow==1.15.0) (1.1.0)\n",
            "Requirement already satisfied: markdown>=2.6.8 in /usr/local/lib/python3.6/dist-packages (from tensorboard<1.16.0,>=1.15.0->tensorflow==1.15.0) (3.2.1)\n",
            "Requirement already satisfied: werkzeug>=0.11.15 in /usr/local/lib/python3.6/dist-packages (from tensorboard<1.16.0,>=1.15.0->tensorflow==1.15.0) (1.0.1)\n",
            "Requirement already satisfied: setuptools>=41.0.0 in /usr/local/lib/python3.6/dist-packages (from tensorboard<1.16.0,>=1.15.0->tensorflow==1.15.0) (46.1.3)\n",
            "Requirement already satisfied: h5py in /usr/local/lib/python3.6/dist-packages (from keras-applications>=1.0.8->tensorflow==1.15.0) (2.10.0)\n",
            "Building wheels for collected packages: gast\n",
            "  Building wheel for gast (setup.py) ... \u001b[?25l\u001b[?25hdone\n",
            "  Created wheel for gast: filename=gast-0.2.2-cp36-none-any.whl size=7540 sha256=90d9f9c240b911386de844b70c59b571537df781eb4c32450627449166c4691e\n",
            "  Stored in directory: /root/.cache/pip/wheels/5c/2e/7e/a1d4d4fcebe6c381f378ce7743a3ced3699feb89bcfbdadadd\n",
            "Successfully built gast\n",
            "\u001b[31mERROR: tensorflow-probability 0.10.0rc0 has requirement gast>=0.3.2, but you'll have gast 0.2.2 which is incompatible.\u001b[0m\n",
            "Installing collected packages: tensorboard, gast, tensorflow-estimator, tensorflow\n",
            "  Found existing installation: tensorboard 2.2.1\n",
            "    Uninstalling tensorboard-2.2.1:\n",
            "      Successfully uninstalled tensorboard-2.2.1\n",
            "  Found existing installation: gast 0.3.3\n",
            "    Uninstalling gast-0.3.3:\n",
            "      Successfully uninstalled gast-0.3.3\n",
            "  Found existing installation: tensorflow-estimator 2.2.0\n",
            "    Uninstalling tensorflow-estimator-2.2.0:\n",
            "      Successfully uninstalled tensorflow-estimator-2.2.0\n",
            "Successfully installed gast-0.2.2 tensorboard-1.15.0 tensorflow-1.15.0 tensorflow-estimator-1.15.1\n"
          ],
          "name": "stdout"
        },
        {
          "output_type": "display_data",
          "data": {
            "application/vnd.colab-display-data+json": {
              "pip_warning": {
                "packages": [
                  "gast",
                  "tensorboard",
                  "tensorflow"
                ]
              }
            }
          },
          "metadata": {
            "tags": []
          }
        }
      ]
    },
    {
      "cell_type": "markdown",
      "metadata": {
        "id": "w7oeyEzthnAy",
        "colab_type": "text"
      },
      "source": [
        "### Data\n",
        "\n",
        "One benefit of this task is that you don't need to download any data — you will generate it on your own! We will use two operators (addition and subtraction) and work with positive integer numbers in some range. Here are examples of correct inputs and outputs:\n",
        "\n",
        "    Input: '1+2'\n",
        "    Output: '3'\n",
        "    \n",
        "    Input: '0-99'\n",
        "    Output: '-99'\n",
        "\n",
        "*Note, that there are no spaces between operators and operands.*\n",
        "\n",
        "\n",
        "Now you need to implement the function *generate_equations*, which will be used to generate the data."
      ]
    },
    {
      "cell_type": "code",
      "metadata": {
        "id": "VZdb3WrnhnA1",
        "colab_type": "code",
        "colab": {}
      },
      "source": [
        "import random"
      ],
      "execution_count": 0,
      "outputs": []
    },
    {
      "cell_type": "code",
      "metadata": {
        "id": "zIVl-BJgjfIR",
        "colab_type": "code",
        "colab": {
          "base_uri": "https://localhost:8080/",
          "height": 208
        },
        "outputId": "35ce4b93-19d7-46a9-c096-8d325e473c52"
      },
      "source": [
        "! wget https://raw.githubusercontent.com/hse-aml/natural-language-processing/master/setup_google_colab.py -O setup_google_colab.py\n",
        "import setup_google_colab\n",
        "# please, uncomment the week you're working on\n",
        "# setup_google_colab.setup_week1()  \n",
        "# setup_google_colab.setup_week2()\n",
        "# setup_google_colab.setup_week3()\n",
        "setup_google_colab.setup_week4()"
      ],
      "execution_count": 3,
      "outputs": [
        {
          "output_type": "stream",
          "text": [
            "--2020-05-12 10:47:50--  https://raw.githubusercontent.com/hse-aml/natural-language-processing/master/setup_google_colab.py\n",
            "Resolving raw.githubusercontent.com (raw.githubusercontent.com)... 151.101.0.133, 151.101.64.133, 151.101.128.133, ...\n",
            "Connecting to raw.githubusercontent.com (raw.githubusercontent.com)|151.101.0.133|:443... connected.\n",
            "HTTP request sent, awaiting response... 200 OK\n",
            "Length: 1991 (1.9K) [text/plain]\n",
            "Saving to: ‘setup_google_colab.py’\n",
            "\n",
            "\rsetup_google_colab.   0%[                    ]       0  --.-KB/s               \rsetup_google_colab. 100%[===================>]   1.94K  --.-KB/s    in 0s      \n",
            "\n",
            "2020-05-12 10:47:51 (18.4 MB/s) - ‘setup_google_colab.py’ saved [1991/1991]\n",
            "\n"
          ],
          "name": "stdout"
        }
      ]
    },
    {
      "cell_type": "code",
      "metadata": {
        "id": "Jhp8kRgdqz94",
        "colab_type": "code",
        "colab": {}
      },
      "source": [
        ""
      ],
      "execution_count": 0,
      "outputs": []
    },
    {
      "cell_type": "code",
      "metadata": {
        "id": "nmjUBc4qhnBF",
        "colab_type": "code",
        "colab": {}
      },
      "source": [
        "import operator \n",
        "def generate_equations(allowed_operators, dataset_size, min_value, max_value):\n",
        "    \"\"\"Generates pairs of equations and solutions to them.\n",
        "    \n",
        "       Each equation has a form of two integers with an operator in between.\n",
        "       Each solution is an integer with the result of the operaion.\n",
        "    \n",
        "        allowed_operators: list of strings, allowed operators.\n",
        "        dataset_size: an integer, number of equations to be generated.\n",
        "        min_value: an integer, min value of each operand.\n",
        "        max_value: an integer, max value of each operand.\n",
        "\n",
        "        result: a list of tuples of strings (equation, solution).\n",
        "    \"\"\"\n",
        "    opers_list = { '+' : operator.add,\n",
        "        '-' : operator.sub,\n",
        "       # '*' : operator.mul,\n",
        "       # '/' : operator.div,\n",
        "       # '%' : operator.mod,\n",
        "       # '^' : operator.xor,\n",
        "        }\n",
        "    sample = []\n",
        "\n",
        "    for _ in range(dataset_size):\n",
        "        num1 = random.randint(min_value, max_value)\n",
        "        num2 = random.randint(min_value, max_value)\n",
        "        for op in allowed_operators:\n",
        "            \n",
        "            sample.append((str(num1)+op+str(num2),str(opers_list[op](num1,num2))))\n",
        "\n",
        "        ######################################\n",
        "        ######### YOUR CODE HERE #############\n",
        "        ######################################\n",
        "    return sample"
      ],
      "execution_count": 0,
      "outputs": []
    },
    {
      "cell_type": "markdown",
      "metadata": {
        "id": "U6trYmevhnBO",
        "colab_type": "text"
      },
      "source": [
        "To check the correctness of your implementation, use *test_generate_equations* function:"
      ]
    },
    {
      "cell_type": "code",
      "metadata": {
        "id": "3EogiVAYhnBQ",
        "colab_type": "code",
        "colab": {}
      },
      "source": [
        "def test_generate_equations():\n",
        "    allowed_operators = ['+', '-']\n",
        "    dataset_size = 10\n",
        "    for (input_, output_) in generate_equations(allowed_operators, dataset_size, 0, 100):\n",
        "        if not (type(input_) is str and type(output_) is str):\n",
        "            return \"Both parts should be strings.\"\n",
        "        if eval(input_) != int(output_):\n",
        "            return \"The (equation: {!r}, solution: {!r}) pair is incorrect.\".format(input_, output_)\n",
        "    return \"Tests passed.\""
      ],
      "execution_count": 0,
      "outputs": []
    },
    {
      "cell_type": "code",
      "metadata": {
        "id": "VCE2MgL1hnBd",
        "colab_type": "code",
        "colab": {
          "base_uri": "https://localhost:8080/",
          "height": 34
        },
        "outputId": "3bf854cb-5ce5-4d45-f612-392c493bb279"
      },
      "source": [
        "print(test_generate_equations())\n"
      ],
      "execution_count": 6,
      "outputs": [
        {
          "output_type": "stream",
          "text": [
            "Tests passed.\n"
          ],
          "name": "stdout"
        }
      ]
    },
    {
      "cell_type": "markdown",
      "metadata": {
        "id": "CHXV6GNGhnBn",
        "colab_type": "text"
      },
      "source": [
        "Finally, we are ready to generate the train and test data for the neural network:"
      ]
    },
    {
      "cell_type": "code",
      "metadata": {
        "id": "V_EJr2K_hnBo",
        "colab_type": "code",
        "colab": {}
      },
      "source": [
        "from sklearn.model_selection import train_test_split"
      ],
      "execution_count": 0,
      "outputs": []
    },
    {
      "cell_type": "code",
      "metadata": {
        "id": "B7Rs61dYhnBx",
        "colab_type": "code",
        "colab": {}
      },
      "source": [
        "allowed_operators = ['+', '-']\n",
        "dataset_size = 100000\n",
        "data = generate_equations(allowed_operators, dataset_size, min_value=0, max_value=9999)\n",
        "\n",
        "train_set, test_set = train_test_split(data, test_size=0.2, random_state=42)"
      ],
      "execution_count": 0,
      "outputs": []
    },
    {
      "cell_type": "code",
      "metadata": {
        "id": "48aHPW5Yf8iR",
        "colab_type": "code",
        "colab": {
          "base_uri": "https://localhost:8080/",
          "height": 191
        },
        "outputId": "434de809-3e90-417d-9c03-f71207be5ded"
      },
      "source": [
        "train_set[:10]"
      ],
      "execution_count": 9,
      "outputs": [
        {
          "output_type": "execute_result",
          "data": {
            "text/plain": [
              "[('6110+1599', '7709'),\n",
              " ('7243+5098', '12341'),\n",
              " ('1796-5712', '-3916'),\n",
              " ('6635-2070', '4565'),\n",
              " ('4156-4938', '-782'),\n",
              " ('9240-5479', '3761'),\n",
              " ('3261-3553', '-292'),\n",
              " ('8336+8249', '16585'),\n",
              " ('141-9673', '-9532'),\n",
              " ('3767-9303', '-5536')]"
            ]
          },
          "metadata": {
            "tags": []
          },
          "execution_count": 9
        }
      ]
    },
    {
      "cell_type": "markdown",
      "metadata": {
        "id": "JZoAsl9AhnB3",
        "colab_type": "text"
      },
      "source": [
        "## Prepare data for the neural network\n",
        "\n",
        "The next stage of data preparation is creating mappings of the characters to their indices in some vocabulary. Since in our task we already know which symbols will appear in the inputs and outputs, generating the vocabulary is a simple step.\n",
        "\n",
        "#### How to create dictionaries for other task\n",
        "\n",
        "First of all, you need to understand what is the basic unit of the sequence in your task. In our case, we operate on symbols and the basic unit is a symbol. The number of symbols is small, so we don't need to think about filtering/normalization steps. However, in other tasks, the basic unit is often a word, and in this case the mapping would be *word $\\to$ integer*. The number of words might be huge, so it would be reasonable to filter them, for example, by frequency and leave only the frequent ones. Other strategies that your should consider are: data normalization (lowercasing, tokenization, how to consider punctuation marks), separate vocabulary for input and for output (e.g. for machine translation), some specifics of the task."
      ]
    },
    {
      "cell_type": "code",
      "metadata": {
        "id": "xN6RfGMihnB4",
        "colab_type": "code",
        "colab": {}
      },
      "source": [
        "word2id = {symbol:i for i, symbol in enumerate('#^$+-1234567890')}\n",
        "id2word = {i:symbol for symbol, i in word2id.items()}"
      ],
      "execution_count": 0,
      "outputs": []
    },
    {
      "cell_type": "code",
      "metadata": {
        "id": "bwYVxf4PtEYI",
        "colab_type": "code",
        "colab": {
          "base_uri": "https://localhost:8080/",
          "height": 278
        },
        "outputId": "769778a3-0d1a-43b8-800a-0456e2231a88"
      },
      "source": [
        "id2word"
      ],
      "execution_count": 17,
      "outputs": [
        {
          "output_type": "execute_result",
          "data": {
            "text/plain": [
              "{0: '#',\n",
              " 1: '^',\n",
              " 2: '$',\n",
              " 3: '+',\n",
              " 4: '-',\n",
              " 5: '1',\n",
              " 6: '2',\n",
              " 7: '3',\n",
              " 8: '4',\n",
              " 9: '5',\n",
              " 10: '6',\n",
              " 11: '7',\n",
              " 12: '8',\n",
              " 13: '9',\n",
              " 14: '0'}"
            ]
          },
          "metadata": {
            "tags": []
          },
          "execution_count": 17
        }
      ]
    },
    {
      "cell_type": "markdown",
      "metadata": {
        "id": "DXPRE_LNhnB-",
        "colab_type": "text"
      },
      "source": [
        "#### Special symbols"
      ]
    },
    {
      "cell_type": "code",
      "metadata": {
        "id": "tzt_u6WHhnCA",
        "colab_type": "code",
        "colab": {}
      },
      "source": [
        "start_symbol = '^'\n",
        "end_symbol = '$'\n",
        "padding_symbol = '#'"
      ],
      "execution_count": 0,
      "outputs": []
    },
    {
      "cell_type": "markdown",
      "metadata": {
        "id": "HzYAKhoAhnCI",
        "colab_type": "text"
      },
      "source": [
        "You could notice that we have added 3 special symbols: '^', '\\$' and '#':\n",
        "- '^' symbol will be passed to the network to indicate the beginning of the decoding procedure. We will discuss this one later in more details.\n",
        "- '\\$' symbol will be used to indicate the *end of a string*, both for input and output sequences. \n",
        "- '#' symbol will be used as a *padding* character to make lengths of all strings equal within one training batch.\n",
        "\n",
        "People have a bit different habits when it comes to special symbols in encoder-decoder networks, so don't get too much confused if you come across other variants in tutorials you read. "
      ]
    },
    {
      "cell_type": "markdown",
      "metadata": {
        "id": "qrjs5BpshnCJ",
        "colab_type": "text"
      },
      "source": [
        "#### Padding"
      ]
    },
    {
      "cell_type": "markdown",
      "metadata": {
        "id": "IgXVEaABhnCK",
        "colab_type": "text"
      },
      "source": [
        "When vocabularies are ready, we need to be able to convert a sentence to a list of vocabulary word indices and back. At the same time, let's care about padding. We are going to preprocess each sequence from the input (and output ground truth) in such a way that:\n",
        "- it has a predefined length *padded_len*\n",
        "- it is probably cut off or padded with the *padding symbol* '#'\n",
        "- it *always* ends with the *end symbol* '$'\n",
        "\n",
        "We will treat the original characters of the sequence **and the end symbol** as the valid part of the input. We will store *the actual length* of the sequence, which includes the end symbol, but does not include the padding symbols. "
      ]
    },
    {
      "cell_type": "markdown",
      "metadata": {
        "id": "RDOkKyZlhnCM",
        "colab_type": "text"
      },
      "source": [
        " Now you need to implement the function *sentence_to_ids* that does the described job. "
      ]
    },
    {
      "cell_type": "code",
      "metadata": {
        "id": "Q29Awh_PhnCM",
        "colab_type": "code",
        "colab": {}
      },
      "source": [
        "import numpy as np\n",
        "def sentence_to_ids(sentence, word2id, padded_len):\n",
        "    \"\"\" Converts a sequence of symbols to a padded sequence of their ids.\n",
        "    \n",
        "      sentence: a string, input/output sequence of symbols.\n",
        "      word2id: a dict, a mapping from original symbols to ids.\n",
        "      padded_len: an integer, a desirable length of the sequence.\n",
        "\n",
        "      result: a tuple of (a list of ids, an actual length of sentence).\n",
        "    \"\"\"\n",
        "    sent_len = len(sentence)######### YOUR CODE HERE #############\n",
        "    sentence = sentence+(padded_len-sent_len)*'#'\n",
        "\n",
        "    sent_ids = [word2id[sentence[i]] for i in range(padded_len)]######### YOUR CODE HERE #############\n",
        "    if padded_len==sent_len: sent_ids[sent_len-1] = word2id['$']\n",
        "    else: sent_ids[sent_len] = word2id['$']\n",
        "\n",
        "    sent_len = (np.array(sent_ids)!=0).astype(int).sum()\n",
        "  #  print(sent_ids,np.array(sent_ids)!=0)\n",
        "    return sent_ids, sent_len"
      ],
      "execution_count": 0,
      "outputs": []
    },
    {
      "cell_type": "markdown",
      "metadata": {
        "id": "k9AgOvkahnCT",
        "colab_type": "text"
      },
      "source": [
        "Check that your implementation is correct:"
      ]
    },
    {
      "cell_type": "code",
      "metadata": {
        "id": "ibYcVNEAhnCU",
        "colab_type": "code",
        "colab": {}
      },
      "source": [
        "def test_sentence_to_ids():\n",
        "    sentences = [(\"123+123\", 7), (\"123+123\", 8), (\"123+123\", 10)]\n",
        "    expected_output = [([5, 6, 7, 3, 5, 6, 2], 7), \n",
        "                       ([5, 6, 7, 3, 5, 6, 7, 2], 8), \n",
        "                       ([5, 6, 7, 3, 5, 6, 7, 2, 0, 0], 8)] \n",
        "    for (sentence, padded_len), (sentence_ids, expected_length) in zip(sentences, expected_output):\n",
        "        print(type(sentence))\n",
        "        output, length = sentence_to_ids(sentence, word2id, padded_len)\n",
        "        \n",
        "        if output != sentence_ids:\n",
        "            return(\"Convertion of '{}' for padded_len={} to {} is incorrect.\".format(\n",
        "                sentence, padded_len, output))\n",
        "        if length != expected_length:\n",
        "            return(\"Convertion of '{}' for padded_len={} has incorrect actual length {}.\".format(\n",
        "                sentence, padded_len, length))\n",
        "    return(\"Tests passed.\")"
      ],
      "execution_count": 0,
      "outputs": []
    },
    {
      "cell_type": "code",
      "metadata": {
        "id": "JW-cqsjlhnCc",
        "colab_type": "code",
        "colab": {
          "base_uri": "https://localhost:8080/",
          "height": 86
        },
        "outputId": "93441626-44a3-411a-d5d9-a9b366f8f762"
      },
      "source": [
        "print(test_sentence_to_ids())"
      ],
      "execution_count": 14,
      "outputs": [
        {
          "output_type": "stream",
          "text": [
            "<class 'str'>\n",
            "<class 'str'>\n",
            "<class 'str'>\n",
            "Tests passed.\n"
          ],
          "name": "stdout"
        }
      ]
    },
    {
      "cell_type": "markdown",
      "metadata": {
        "id": "IkZq1maBhnCh",
        "colab_type": "text"
      },
      "source": [
        "We also need to be able to get back from indices to symbols:"
      ]
    },
    {
      "cell_type": "code",
      "metadata": {
        "id": "HHuGOdCGhnCj",
        "colab_type": "code",
        "colab": {}
      },
      "source": [
        "def ids_to_sentence(ids, id2word):\n",
        "    \"\"\" Converts a sequence of ids to a sequence of symbols.\n",
        "    \n",
        "          ids: a list, indices for the padded sequence.\n",
        "          id2word:  a dict, a mapping from ids to original symbols.\n",
        "\n",
        "          result: a list of symbols.\n",
        "    \"\"\"\n",
        "    \n",
        "    return [id2word[i] for i in ids] "
      ],
      "execution_count": 0,
      "outputs": []
    },
    {
      "cell_type": "markdown",
      "metadata": {
        "id": "Nai3-F69hnCq",
        "colab_type": "text"
      },
      "source": [
        "#### Generating batches"
      ]
    },
    {
      "cell_type": "markdown",
      "metadata": {
        "id": "EoHKctNQhnCr",
        "colab_type": "text"
      },
      "source": [
        "The final step of data preparation is a function that transforms a batch of sentences to a list of lists of indices. "
      ]
    },
    {
      "cell_type": "code",
      "metadata": {
        "id": "3OQVFGlUhnCs",
        "colab_type": "code",
        "colab": {}
      },
      "source": [
        "def batch_to_ids(sentences, word2id, max_len):\n",
        "    \"\"\"Prepares batches of indices. \n",
        "    \n",
        "       Sequences are padded to match the longest sequence in the batch,\n",
        "       if it's longer than max_len, then max_len is used instead.\n",
        "\n",
        "        sentences: a list of strings, original sequences.\n",
        "        word2id: a dict, a mapping from original symbols to ids.\n",
        "        max_len: an integer, max len of sequences allowed.\n",
        "\n",
        "        result: a list of lists of ids, a list of actual lengths.\n",
        "    \"\"\"\n",
        "    \n",
        "    max_len_in_batch = min(max(len(s) for s in sentences) + 1, max_len)\n",
        "    batch_ids, batch_ids_len = [], []\n",
        "    for sentence in sentences:\n",
        "        ids, ids_len = sentence_to_ids(sentence, word2id, max_len_in_batch)\n",
        "        batch_ids.append(ids)\n",
        "        batch_ids_len.append(ids_len)\n",
        "    return batch_ids, batch_ids_len"
      ],
      "execution_count": 0,
      "outputs": []
    },
    {
      "cell_type": "markdown",
      "metadata": {
        "id": "x8SEYGDfhnCy",
        "colab_type": "text"
      },
      "source": [
        "The function *generate_batches* will help to generate batches with defined size from given samples."
      ]
    },
    {
      "cell_type": "code",
      "metadata": {
        "id": "dWHW0sqFhnCz",
        "colab_type": "code",
        "colab": {}
      },
      "source": [
        "def generate_batches(samples, batch_size=64):\n",
        "    X, Y = [], []\n",
        "    for i, (x, y) in enumerate(samples, 1):\n",
        "        X.append(x)\n",
        "        Y.append(y)\n",
        "        if i % batch_size == 0:\n",
        "            yield X, Y\n",
        "            X, Y = [], []\n",
        "    if X and Y:\n",
        "        yield X, Y"
      ],
      "execution_count": 0,
      "outputs": []
    },
    {
      "cell_type": "markdown",
      "metadata": {
        "id": "9VEatHb1hnC4",
        "colab_type": "text"
      },
      "source": [
        "To illustrate the result of the implemented functions, run the following cell:"
      ]
    },
    {
      "cell_type": "code",
      "metadata": {
        "id": "aadqnET5hnC5",
        "colab_type": "code",
        "colab": {
          "base_uri": "https://localhost:8080/",
          "height": 69
        },
        "outputId": "1a9285be-5b88-465e-9936-d7213bc3d21c"
      },
      "source": [
        "sentences = train_set[0]\n",
        "ids, sent_lens = batch_to_ids(sentences, word2id, max_len=10)\n",
        "print('Input:', sentences)\n",
        "print('Ids: {}\\nSentences lengths: {}'.format(ids, sent_lens))"
      ],
      "execution_count": 18,
      "outputs": [
        {
          "output_type": "stream",
          "text": [
            "Input: ('6110+1599', '7709')\n",
            "Ids: [[10, 5, 5, 14, 3, 5, 9, 13, 13, 2], [11, 11, 14, 13, 2, 0, 0, 0, 0, 0]]\n",
            "Sentences lengths: [10, 5]\n"
          ],
          "name": "stdout"
        }
      ]
    },
    {
      "cell_type": "markdown",
      "metadata": {
        "id": "EyiVjFkMhnC-",
        "colab_type": "text"
      },
      "source": [
        "## Encoder-Decoder architecture\n",
        "\n",
        "Encoder-Decoder is a successful architecture for Seq2Seq tasks with different lengths of input and output sequences. The main idea is to use two recurrent neural networks, where the first neural network *encodes* the input sequence into a real-valued vector and then the second neural network *decodes* this vector into the output sequence. While building the neural network, we will specify some particular characteristics of this architecture."
      ]
    },
    {
      "cell_type": "code",
      "metadata": {
        "id": "srIhDVJphnC_",
        "colab_type": "code",
        "colab": {}
      },
      "source": [
        "import tensorflow as tf"
      ],
      "execution_count": 0,
      "outputs": []
    },
    {
      "cell_type": "markdown",
      "metadata": {
        "id": "9z4gqzGUhnDH",
        "colab_type": "text"
      },
      "source": [
        "Let us use TensorFlow building blocks to specify the network architecture."
      ]
    },
    {
      "cell_type": "code",
      "metadata": {
        "id": "DKAaaGv7hnDI",
        "colab_type": "code",
        "colab": {}
      },
      "source": [
        "class Seq2SeqModel(object):\n",
        "    pass"
      ],
      "execution_count": 0,
      "outputs": []
    },
    {
      "cell_type": "markdown",
      "metadata": {
        "id": "adwLhHAjhnDM",
        "colab_type": "text"
      },
      "source": [
        "First, we need to create [placeholders](https://www.tensorflow.org/api_guides/python/io_ops#Placeholders) to specify what data we are going to feed into the network during the execution time. For this task we will need:\n",
        " - *input_batch* — sequences of sentences (the shape will equal to [batch_size, max_sequence_len_in_batch]);\n",
        " - *input_batch_lengths* — lengths of not padded sequences (the shape equals to [batch_size]);\n",
        " - *ground_truth* — sequences of groundtruth (the shape will equal to [batch_size, max_sequence_len_in_batch]);\n",
        " - *ground_truth_lengths* — lengths of not padded groundtruth sequences (the shape equals to [batch_size]);\n",
        " - *dropout_ph* — dropout keep probability; this placeholder has a predifined value 1;\n",
        " - *learning_rate_ph* — learning rate."
      ]
    },
    {
      "cell_type": "code",
      "metadata": {
        "id": "kBSOHhgKhnDN",
        "colab_type": "code",
        "colab": {}
      },
      "source": [
        "def declare_placeholders(self):\n",
        "    \"\"\"Specifies placeholders for the model.\"\"\"\n",
        "    \n",
        "    # Placeholders for input and its actual lengths.\n",
        "    self.input_batch = tf.placeholder(shape=(None, None), dtype=tf.int32, name='input_batch')\n",
        "    self.input_batch_lengths = tf.placeholder(shape=(None, ), dtype=tf.int32, name='input_batch_lengths')\n",
        "    \n",
        "    # Placeholders for groundtruth and its actual lengths.\n",
        "    self.ground_truth = tf.placeholder(dtype = tf.int32, shape=(None,None), name = 'ground_truth')######### YOUR CODE HERE #############\n",
        "    self.ground_truth_lengths = tf.placeholder(dtype=tf.int32, shape = (None, ), name = 'gt_length')######### YOUR CODE HERE #############\n",
        "        \n",
        "    self.dropout_ph = tf.placeholder_with_default(tf.cast(1.0, tf.float32), shape=[])\n",
        "    self.learning_rate_ph = tf.placeholder(dtype = tf.float32, shape = []) ######### YOUR CODE HERE ############# "
      ],
      "execution_count": 0,
      "outputs": []
    },
    {
      "cell_type": "code",
      "metadata": {
        "id": "LgOsq3WwhnDR",
        "colab_type": "code",
        "colab": {}
      },
      "source": [
        "Seq2SeqModel.__declare_placeholders = classmethod(declare_placeholders)"
      ],
      "execution_count": 0,
      "outputs": []
    },
    {
      "cell_type": "markdown",
      "metadata": {
        "id": "DxPJhyXehnDX",
        "colab_type": "text"
      },
      "source": [
        "Now, let us specify the layers of the neural network. First, we need to prepare an embedding matrix. Since we use the same vocabulary for input and output, we need only one such matrix. For tasks with different vocabularies there would be multiple embedding layers.\n",
        "- Create embeddings matrix with [tf.Variable](https://www.tensorflow.org/api_docs/python/tf/Variable). Specify its name, type (tf.float32), and initialize with random values.\n",
        "- Perform [embeddings lookup](https://www.tensorflow.org/api_docs/python/tf/nn/embedding_lookup) for a given input batch."
      ]
    },
    {
      "cell_type": "code",
      "metadata": {
        "id": "H3eBdSynhnDY",
        "colab_type": "code",
        "colab": {}
      },
      "source": [
        "def create_embeddings(self, vocab_size, embeddings_size):\n",
        "    \"\"\"Specifies embeddings layer and embeds an input batch.\"\"\"\n",
        "     \n",
        "    random_initializer = tf.random_uniform((vocab_size, embeddings_size), -1.0, 1.0)\n",
        "    self.embeddings = tf.Variable(initial_value= random_initializer, dtype = tf.float32)######### YOUR CODE HERE ############# \n",
        "    \n",
        "    # Perform embeddings lookup for self.input_batch. \n",
        "    self.input_batch_embedded = tf.nn.embedding_lookup(self.embeddings, self.input_batch)######### YOUR CODE HERE ############# "
      ],
      "execution_count": 0,
      "outputs": []
    },
    {
      "cell_type": "code",
      "metadata": {
        "id": "CtbtdMKAhnDc",
        "colab_type": "code",
        "colab": {}
      },
      "source": [
        "Seq2SeqModel.__create_embeddings = classmethod(create_embeddings)"
      ],
      "execution_count": 0,
      "outputs": []
    },
    {
      "cell_type": "markdown",
      "metadata": {
        "id": "9JdlyrtuhnDj",
        "colab_type": "text"
      },
      "source": [
        "#### Encoder\n",
        "\n",
        "The first RNN of the current architecture is called an *encoder* and serves for encoding an input sequence to a real-valued vector. Input of this RNN is an embedded input batch. Since sentences in the same batch could have different actual lengths, we also provide input lengths to avoid unnecessary computations. The final encoder state will be passed to the second RNN (decoder), which we will create soon. \n",
        "\n",
        "- TensorFlow provides a number of [RNN cells](https://www.tensorflow.org/api_guides/python/contrib.rnn#Core_RNN_Cells_for_use_with_TensorFlow_s_core_RNN_methods) ready for use. We suggest that you use [GRU cell](https://www.tensorflow.org/api_docs/python/tf/contrib/rnn/GRUCell), but you can also experiment with other types. \n",
        "- Wrap your cells with [DropoutWrapper](https://www.tensorflow.org/api_docs/python/tf/contrib/rnn/DropoutWrapper). Dropout is an important regularization technique for neural networks. Specify input keep probability using the dropout placeholder that we created before.\n",
        "- Combine the defined encoder cells with [Dynamic RNN](https://www.tensorflow.org/api_docs/python/tf/nn/dynamic_rnn). Use the embedded input batches and their lengths here.\n",
        "- Use *dtype=tf.float32* everywhere."
      ]
    },
    {
      "cell_type": "code",
      "metadata": {
        "id": "9CNdG13fhnDl",
        "colab_type": "code",
        "colab": {}
      },
      "source": [
        "def build_encoder(self, hidden_size):\n",
        "    \"\"\"Specifies encoder architecture and computes its output.\"\"\"\n",
        "    \n",
        "    # Create GRUCell with dropout.\n",
        "    encoder_cell = tf.nn.rnn_cell.DropoutWrapper(tf.nn.rnn_cell.GRUCell(hidden_size),\n",
        "                                                                input_keep_prob = self.dropout_ph\n",
        "                                                                )######### YOUR CODE HERE #############\n",
        "    \n",
        "    # Create RNN with the predefined cell.\n",
        "    _, self.final_encoder_state = tf.nn.dynamic_rnn(encoder_cell, self.input_batch_embedded, self.input_batch_lengths, dtype = tf.float32)######### YOUR CODE HERE #############"
      ],
      "execution_count": 0,
      "outputs": []
    },
    {
      "cell_type": "code",
      "metadata": {
        "id": "ZPxyuqGyhnDr",
        "colab_type": "code",
        "colab": {}
      },
      "source": [
        "Seq2SeqModel.__build_encoder = classmethod(build_encoder)"
      ],
      "execution_count": 0,
      "outputs": []
    },
    {
      "cell_type": "markdown",
      "metadata": {
        "id": "wTbrL0SOhnDu",
        "colab_type": "text"
      },
      "source": [
        "#### Decoder\n",
        "\n",
        "The second RNN is called a *decoder* and serves for generating the output sequence. In the simple seq2seq arcitecture, the input sequence is provided to the decoder only as the final state of the encoder. Obviously, it is a bottleneck and [Attention techniques](https://www.tensorflow.org/tutorials/seq2seq#background_on_the_attention_mechanism) can help to overcome it. So far, we do not need them to make our calculator work, but this would be a necessary ingredient for more advanced tasks. \n",
        "\n",
        "During training, decoder also uses information about the true output. It is feeded in as input symbol by symbol. However, during the prediction stage (which is called *inference* in this architecture), the decoder can only use its own generated output from the previous step to feed it in at the next step. Because of this difference (*training* vs *inference*), we will create two distinct instances, which will serve for the described scenarios.\n",
        "\n",
        "The picture below illustrates the point. It also shows our work with the special characters, e.g. look how the start symbol `^` is used. The transparent parts are ignored. In decoder, it is masked out in the loss computation. In encoder, the green state is considered as final and passed to the decoder. "
      ]
    },
    {
      "cell_type": "markdown",
      "metadata": {
        "id": "WBszxwzLhnDw",
        "colab_type": "text"
      },
      "source": [
        "<img src=\"https://github.com/hse-aml/natural-language-processing/blob/master/week4/encoder-decoder-pic.png?raw=1\" style=\"width: 500px;\">"
      ]
    },
    {
      "cell_type": "markdown",
      "metadata": {
        "id": "tO5q6kQuhnDx",
        "colab_type": "text"
      },
      "source": [
        "Now, it's time to implement the decoder:\n",
        " - First, we should create two [helpers](https://www.tensorflow.org/api_guides/python/contrib.seq2seq#Dynamic_Decoding). These classes help to determine the behaviour of the decoder. During the training time, we will use [TrainingHelper](https://www.tensorflow.org/api_docs/python/tf/contrib/seq2seq/TrainingHelper). For the inference we recommend to use [GreedyEmbeddingHelper](https://www.tensorflow.org/api_docs/python/tf/contrib/seq2seq/GreedyEmbeddingHelper).\n",
        " - To share all parameters during training and inference, we use one scope and set the flag 'reuse' to True at inference time. You might be interested to know more about how [variable scopes](https://www.tensorflow.org/programmers_guide/variables) work in TF. \n",
        " - To create the decoder itself, we will use [BasicDecoder](https://www.tensorflow.org/api_docs/python/tf/contrib/seq2seq/BasicDecoder) class. As previously, you should choose some RNN cell, e.g. GRU cell. To turn hidden states into logits, we will need a projection layer. One of the simple solutions is using [OutputProjectionWrapper](https://www.tensorflow.org/api_docs/python/tf/contrib/rnn/OutputProjectionWrapper).\n",
        " - For getting the predictions, it will be convinient to use [dynamic_decode](https://www.tensorflow.org/api_docs/python/tf/contrib/seq2seq/dynamic_decode). This function uses the provided decoder to perform decoding."
      ]
    },
    {
      "cell_type": "code",
      "metadata": {
        "id": "Y_R8GSn4hnDy",
        "colab_type": "code",
        "colab": {}
      },
      "source": [
        "def build_decoder(self, hidden_size, vocab_size, max_iter, start_symbol_id, end_symbol_id):\n",
        "    \"\"\"Specifies decoder architecture and computes the output.\n",
        "    \n",
        "        Uses different helpers:\n",
        "          - for train: feeding ground truth\n",
        "          - for inference: feeding generated output\n",
        "\n",
        "        As a result, self.train_outputs and self.infer_outputs are created. \n",
        "        Each of them contains two fields:\n",
        "          rnn_output (predicted logits)\n",
        "          sample_id (predictions).\n",
        "\n",
        "    \"\"\"\n",
        "    \n",
        "    # Use start symbols as the decoder inputs at the first time step.\n",
        "    batch_size = tf.shape(self.input_batch)[0]\n",
        "    start_tokens = tf.fill([batch_size], start_symbol_id)\n",
        "    ground_truth_as_input = tf.concat([tf.expand_dims(start_tokens, 1), self.ground_truth], 1)\n",
        "    \n",
        "    # Use the embedding layer defined before to lookup embedings for ground_truth_as_input. \n",
        "    self.ground_truth_embedded = tf.nn.embedding_lookup(self.embeddings,ground_truth_as_input)######### YOUR CODE HERE #############\n",
        "     \n",
        "    # Create TrainingHelper for the train stage.\n",
        "    train_helper = tf.contrib.seq2seq.TrainingHelper(self.ground_truth_embedded, \n",
        "                                                     self.ground_truth_lengths)\n",
        "    \n",
        "    # Create GreedyEmbeddingHelper for the inference stage.\n",
        "    # You should provide the embedding layer, start_tokens and index of the end symbol.\n",
        "    infer_helper = tf.contrib.seq2seq.GreedyEmbeddingHelper(self.embeddings, start_tokens, end_symbol_id)######### YOUR CODE HERE #############\n",
        "    \n",
        "  \n",
        "    def decode(helper, scope, reuse=None):\n",
        "        \"\"\"Creates decoder and return the results of the decoding with a given helper.\"\"\"\n",
        "        \n",
        "        with tf.variable_scope(scope, reuse=reuse):\n",
        "            # Create GRUCell with dropout. Do not forget to set the reuse flag properly.\n",
        "            decoder_cell = tf.nn.rnn_cell.DropoutWrapper(tf.nn.rnn_cell.GRUCell(hidden_size, reuse = reuse),\n",
        "                                                                input_keep_prob = self.dropout_ph, \n",
        "                                                                output_keep_prob = self.dropout_ph, \n",
        "                                                                state_keep_prob = self.dropout_ph\n",
        "                                                                )######### YOUR CODE HERE #############\n",
        "            \n",
        "            # Create a projection wrapper.\n",
        "            decoder_cell = tf.contrib.rnn.OutputProjectionWrapper(decoder_cell, vocab_size, reuse=reuse)\n",
        "            \n",
        "            # Create BasicDecoder, pass the defined cell, a helper, and initial state.\n",
        "            # The initial state should be equal to the final state of the encoder!\n",
        "            decoder = tf.contrib.seq2seq.BasicDecoder(cell = decoder_cell,\n",
        "                                                  helper = helper,\n",
        "                                                  initial_state = self.final_encoder_state)######### YOUR CODE HERE #############\n",
        "            \n",
        "            # The first returning argument of dynamic_decode contains two fields:\n",
        "            #   rnn_output (predicted logits)\n",
        "            #   sample_id (predictions)\n",
        "            outputs, _, _ = tf.contrib.seq2seq.dynamic_decode(decoder=decoder, maximum_iterations=max_iter, \n",
        "                                                              output_time_major=False, impute_finished=True)\n",
        "\n",
        "            return outputs\n",
        "        \n",
        "    self.train_outputs = decode(train_helper, 'decode')\n",
        "    self.infer_outputs = decode(infer_helper, 'decode', reuse=True)"
      ],
      "execution_count": 0,
      "outputs": []
    },
    {
      "cell_type": "code",
      "metadata": {
        "id": "g5FvMj7XhnD2",
        "colab_type": "code",
        "colab": {}
      },
      "source": [
        "Seq2SeqModel.__build_decoder = classmethod(build_decoder)"
      ],
      "execution_count": 0,
      "outputs": []
    },
    {
      "cell_type": "markdown",
      "metadata": {
        "id": "fOaS4vOMhnD7",
        "colab_type": "text"
      },
      "source": [
        "In this task we will use [sequence_loss](https://www.tensorflow.org/api_docs/python/tf/contrib/seq2seq/sequence_loss), which is a weighted cross-entropy loss for a sequence of logits. Take a moment to understand, what is your train logits and targets. Also note, that we do not want to take into account loss terms coming from padding symbols, so we will mask them out using weights.  "
      ]
    },
    {
      "cell_type": "code",
      "metadata": {
        "id": "wh4GxhighnD7",
        "colab_type": "code",
        "colab": {}
      },
      "source": [
        "def compute_loss(self):\n",
        "    \"\"\"Computes sequence loss (masked cross-entopy loss with logits).\"\"\"\n",
        "    \n",
        "    weights = tf.cast(tf.sequence_mask(self.ground_truth_lengths), dtype=tf.float32)\n",
        "    \n",
        "    self.loss = tf.contrib.seq2seq.sequence_loss(self.train_outputs.rnn_output,\n",
        "        self.ground_truth,\n",
        "        weights)######### YOUR CODE HERE #############"
      ],
      "execution_count": 0,
      "outputs": []
    },
    {
      "cell_type": "code",
      "metadata": {
        "id": "YIBRCjw1hnD_",
        "colab_type": "code",
        "colab": {}
      },
      "source": [
        "Seq2SeqModel.__compute_loss = classmethod(compute_loss)"
      ],
      "execution_count": 0,
      "outputs": []
    },
    {
      "cell_type": "markdown",
      "metadata": {
        "id": "s9JXNpHThnEJ",
        "colab_type": "text"
      },
      "source": [
        "The last thing to specify is the optimization of the defined loss. \n",
        "We suggest that you use [optimize_loss](https://www.tensorflow.org/api_docs/python/tf/contrib/layers/optimize_loss) with Adam optimizer and a learning rate from the corresponding placeholder. You might also need to pass global step (e.g. as tf.train.get_global_step()) and clip gradients by 1.0."
      ]
    },
    {
      "cell_type": "code",
      "metadata": {
        "id": "lW5FuQqQhnEK",
        "colab_type": "code",
        "colab": {}
      },
      "source": [
        "def perform_optimization(self):\n",
        "    \"\"\"Specifies train_op that optimizes self.loss.\"\"\"\n",
        "    \n",
        "    self.train_op = tf.contrib.layers.optimize_loss(\n",
        "        self.loss,  tf.train.get_global_step(), self.learning_rate_ph, 'Adam', None, None, 1.0)\n",
        "    ######### YOUR CODE HERE #############"
      ],
      "execution_count": 0,
      "outputs": []
    },
    {
      "cell_type": "code",
      "metadata": {
        "id": "e8p2VahbhnEP",
        "colab_type": "code",
        "colab": {}
      },
      "source": [
        "Seq2SeqModel.__perform_optimization = classmethod(perform_optimization)"
      ],
      "execution_count": 0,
      "outputs": []
    },
    {
      "cell_type": "markdown",
      "metadata": {
        "id": "ykPtLItIhnES",
        "colab_type": "text"
      },
      "source": [
        "Congratulations! You have specified all the parts of your network. You may have noticed, that we didn't deal with any real data yet, so what you have written is just recipies on how the network should function.\n",
        "Now we will put them to the constructor of our Seq2SeqModel class to use it in the next section. "
      ]
    },
    {
      "cell_type": "code",
      "metadata": {
        "id": "ZwbpkXuvhnET",
        "colab_type": "code",
        "colab": {}
      },
      "source": [
        "def init_model(self, vocab_size, embeddings_size, hidden_size, \n",
        "               max_iter, start_symbol_id, end_symbol_id, padding_symbol_id):\n",
        "    \n",
        "    self.__declare_placeholders()\n",
        "    self.__create_embeddings(vocab_size, embeddings_size)\n",
        "    self.__build_encoder(hidden_size)\n",
        "    self.__build_decoder(hidden_size, vocab_size, max_iter, start_symbol_id, end_symbol_id)\n",
        "    \n",
        "    # Compute loss and back-propagate.\n",
        "    self.__compute_loss()\n",
        "    self.__perform_optimization()\n",
        "    \n",
        "    # Get predictions for evaluation.\n",
        "    self.train_predictions = self.train_outputs.sample_id\n",
        "    self.infer_predictions = self.infer_outputs.sample_id"
      ],
      "execution_count": 0,
      "outputs": []
    },
    {
      "cell_type": "code",
      "metadata": {
        "id": "eEfcM77fhnEW",
        "colab_type": "code",
        "colab": {}
      },
      "source": [
        "Seq2SeqModel.__init__ = classmethod(init_model)"
      ],
      "execution_count": 0,
      "outputs": []
    },
    {
      "cell_type": "markdown",
      "metadata": {
        "id": "oHedSfNPhnEZ",
        "colab_type": "text"
      },
      "source": [
        "## Train the network and predict output\n",
        "\n",
        "[Session.run](https://www.tensorflow.org/api_docs/python/tf/Session#run) is a point which initiates computations in the graph that we have defined. To train the network, we need to compute *self.train_op*. To predict output, we just need to compute *self.infer_predictions*. In any case, we need to feed actual data through the placeholders that we defined above. "
      ]
    },
    {
      "cell_type": "code",
      "metadata": {
        "id": "7XJFckethnEZ",
        "colab_type": "code",
        "colab": {}
      },
      "source": [
        "def train_on_batch(self, session, X, X_seq_len, Y, Y_seq_len, learning_rate, dropout_keep_probability):\n",
        "    feed_dict = {\n",
        "            self.input_batch: X,\n",
        "            self.input_batch_lengths: X_seq_len,\n",
        "            self.ground_truth: Y,\n",
        "            self.ground_truth_lengths: Y_seq_len,\n",
        "            self.learning_rate_ph: learning_rate,\n",
        "            self.dropout_ph: dropout_keep_probability\n",
        "        }\n",
        "    pred, loss, _ = session.run([\n",
        "            self.train_predictions,\n",
        "            self.loss,\n",
        "            self.train_op], feed_dict=feed_dict)\n",
        "    return pred, loss"
      ],
      "execution_count": 0,
      "outputs": []
    },
    {
      "cell_type": "code",
      "metadata": {
        "id": "Ri6YZnf0hnEd",
        "colab_type": "code",
        "colab": {}
      },
      "source": [
        "Seq2SeqModel.train_on_batch = classmethod(train_on_batch)"
      ],
      "execution_count": 0,
      "outputs": []
    },
    {
      "cell_type": "markdown",
      "metadata": {
        "id": "Jta-iwIQhnEf",
        "colab_type": "text"
      },
      "source": [
        "We implemented two prediction functions: *predict_for_batch* and *predict_for_batch_with_loss*. The first one allows only to predict output for some input sequence, while the second one could compute loss because we provide also ground truth values. Both these functions might be useful since the first one could be used for predicting only, and the second one is helpful for validating results on not-training data during the training."
      ]
    },
    {
      "cell_type": "code",
      "metadata": {
        "id": "Ex1GZJuUhnEg",
        "colab_type": "code",
        "colab": {}
      },
      "source": [
        "def predict_for_batch(self, session, X, X_seq_len):\n",
        "    feed_dict = {self.input_batch: X,\n",
        "                 self.input_batch_lengths: X_seq_len\n",
        "    }######### YOUR CODE HERE #############\n",
        "    pred = session.run([\n",
        "            self.infer_predictions\n",
        "        ], feed_dict=feed_dict)[0]\n",
        "    return pred\n",
        "\n",
        "def predict_for_batch_with_loss(self, session, X, X_seq_len, Y, Y_seq_len):\n",
        "    feed_dict = {\n",
        "            self.input_batch: X,\n",
        "            self.input_batch_lengths: X_seq_len,\n",
        "            self.ground_truth: Y,\n",
        "            self.ground_truth_lengths: Y_seq_len}\n",
        "            ######### YOUR CODE HERE #############\n",
        "    pred, loss = session.run([\n",
        "            self.infer_predictions,\n",
        "            self.loss,\n",
        "        ], feed_dict=feed_dict)\n",
        "    return pred, loss"
      ],
      "execution_count": 0,
      "outputs": []
    },
    {
      "cell_type": "code",
      "metadata": {
        "id": "p_4iSgdAhnEk",
        "colab_type": "code",
        "colab": {}
      },
      "source": [
        "Seq2SeqModel.predict_for_batch = classmethod(predict_for_batch)\n",
        "Seq2SeqModel.predict_for_batch_with_loss = classmethod(predict_for_batch_with_loss)"
      ],
      "execution_count": 0,
      "outputs": []
    },
    {
      "cell_type": "markdown",
      "metadata": {
        "id": "pIGrsbzahnEn",
        "colab_type": "text"
      },
      "source": [
        "## Run your experiment\n",
        "\n",
        "Create *Seq2SeqModel* model with the following parameters:\n",
        " - *vocab_size* — number of tokens;\n",
        " - *embeddings_size* — dimension of embeddings, recommended value: 20;\n",
        " - *max_iter* — maximum number of steps in decoder, recommended value: 7;\n",
        " - *hidden_size* — size of hidden layers for RNN, recommended value: 512;\n",
        " - *start_symbol_id* — an index of the start token (`^`).\n",
        " - *end_symbol_id* — an index of the end token (`$`).\n",
        " - *padding_symbol_id* — an index of the padding token (`#`).\n",
        "\n",
        "Set hyperparameters. You might want to start with the following values and see how it works:\n",
        "- *batch_size*: 128;\n",
        "- at least 10 epochs;\n",
        "- value of *learning_rate*: 0.001\n",
        "- *dropout_keep_probability* equals to 0.5 for training (typical values for dropout probability are ranging from 0.1 to 1.0); larger values correspond smaler number of dropout units;\n",
        "- *max_len*: 20."
      ]
    },
    {
      "cell_type": "code",
      "metadata": {
        "id": "sNT30inAhnEn",
        "colab_type": "code",
        "colab": {}
      },
      "source": [
        "tf.reset_default_graph()\n",
        "\n",
        "model = Seq2SeqModel(len(list(word2id)) ,20,7,512,word2id['^'], word2id['$'], word2id['#'])######### YOUR CODE HERE #############\n",
        "\n",
        "batch_size = 128######### YOUR CODE HERE #############\n",
        "n_epochs = 10######### YOUR CODE HERE #############\n",
        "learning_rate = 1e-3######### YOUR CODE HERE #############\n",
        "dropout_keep_probability = [0.3, 0.5, 0.7, 0.9]######### the best are results for 0.7, 0.9 #############\n",
        "max_len = 20######### YOUR CODE HERE #############\n",
        " \n",
        "n_step = int(len(train_set) / batch_size) "
      ],
      "execution_count": 0,
      "outputs": []
    },
    {
      "cell_type": "markdown",
      "metadata": {
        "id": "2OUAlA0MhnEt",
        "colab_type": "text"
      },
      "source": [
        "Finally, we are ready to run the training! A good indicator that everything works fine is decreasing loss during the training. You should account on the loss value equal to approximately 2.7 at the beginning of the training and near 1 after the 10th epoch."
      ]
    },
    {
      "cell_type": "code",
      "metadata": {
        "scrolled": true,
        "id": "wJECOCn3hnEu",
        "colab_type": "code",
        "colab": {
          "base_uri": "https://localhost:8080/",
          "height": 1000
        },
        "outputId": "923c99d4-42ed-41b5-dc3c-8c90f48aa1e7"
      },
      "source": [
        "\n",
        "for dropout in dropout_keep_probability:\n",
        "    session = tf.Session()\n",
        "    session.run(tf.global_variables_initializer())\n",
        "            \n",
        "    invalid_number_prediction_counts = []\n",
        "    all_model_predictions = []\n",
        "    all_ground_truth = []\n",
        "    print('Start training... \\n')\n",
        "    for epoch in range(n_epochs):  \n",
        "        random.shuffle(train_set)\n",
        "        random.shuffle(test_set)\n",
        "    \n",
        "        print('Train: epoch', epoch + 1)\n",
        "        for n_iter, (X_batch, Y_batch) in enumerate(generate_batches(train_set, batch_size=batch_size)):\n",
        "        ######################################\n",
        "        ######### YOUR CODE HERE #############\n",
        "        ######################################\n",
        "        # prepare the data (X_batch and Y_batch) for training\n",
        "        # using function batch_to_ids\n",
        "        # prepare the data (X_batch and Y_batch) for training\n",
        "            X_ids, X_sent_lens = batch_to_ids(X_batch, word2id, max_len=max_len)\n",
        "            Y_ids, Y_sent_lens = batch_to_ids(Y_batch, word2id, max_len=max_len)\n",
        "            predictions, loss = model.train_on_batch(\n",
        "            session,\n",
        "            X_ids,\n",
        "            X_sent_lens,\n",
        "            Y_ids,\n",
        "            Y_sent_lens,\n",
        "            learning_rate,\n",
        "            dropout\n",
        "        )\n",
        "        \n",
        "            if n_iter % 200 == 0:\n",
        "                print(\"Epoch: [%d/%d], step: [%d/%d], loss: %f\" % (epoch + 1, n_epochs, n_iter + 1, n_step, loss))\n",
        "                \n",
        "        X_sent, Y_sent = next(generate_batches(test_set, batch_size=batch_size))\n",
        "        ######################################\n",
        "        ######### YOUR CODE HERE #############\n",
        "        ######################################\n",
        "        # prepare test data (X_sent and Y_sent) for predicting \n",
        "        # quality and computing value of the loss function\n",
        "        # using function batch_to_ids\n",
        "        X, X_sent_lens = batch_to_ids(X_sent, word2id, max_len=max_len)\n",
        "        Y, Y_sent_lens = batch_to_ids(Y_sent, word2id, max_len=max_len)\n",
        "    \n",
        "        predictions, loss = model.predict_for_batch_with_loss(\n",
        "                                                    session,\n",
        "                                                    X,\n",
        "                                                    X_sent_lens,\n",
        "                                                    Y,\n",
        "                                                    Y_sent_lens\n",
        "                                                    )\n",
        "        print('Test: epoch', epoch + 1, 'loss:', loss,)\n",
        "        for x, y, p  in list(zip(X, Y, predictions))[:3]:\n",
        "            print('X:',''.join(ids_to_sentence(x, id2word)))\n",
        "            print('Y:',''.join(ids_to_sentence(y, id2word)))\n",
        "            print('O:',''.join(ids_to_sentence(p, id2word)))\n",
        "            print('')\n",
        "\n",
        "        model_predictions = []\n",
        "        ground_truth = []\n",
        "        invalid_number_prediction_count = 0\n",
        "        # For the whole test set calculate ground-truth values (as integer numbers)\n",
        "        # and prediction values (also as integers) to calculate metrics.\n",
        "        # If generated by model number is not correct (e.g. '1-1'), \n",
        "        # increase invalid_number_prediction_count and don't append this and corresponding\n",
        "        # ground-truth value to the arrays.\n",
        "        for X_batch, Y_batch in generate_batches(test_set, batch_size=batch_size):\n",
        "        ######################################\n",
        "        ######### YOUR CODE HERE #############\n",
        "        ######################################\n",
        "            X_ids, X_sent_lens = batch_to_ids(X_batch, word2id, max_len=max_len)\n",
        "            Y_ids, Y_sent_lens = batch_to_ids(Y_batch, word2id, max_len=max_len)\n",
        "            predictions = model.predict_for_batch(session, X_ids, X_sent_lens)\n",
        "            for y, p in zip(Y_ids, predictions):\n",
        "                y_sent = ''.join(ids_to_sentence(y, id2word))\n",
        "                y_sent = y_sent[:y_sent.find('$')]\n",
        "                p_sent = ''.join(ids_to_sentence(p, id2word))\n",
        "                p_sent = p_sent[:p_sent.find('$')]\n",
        "                if p_sent.isdigit() or (p_sent.startswith('-') and p_sent[1:].isdigit()):\n",
        "                    model_predictions.append(int(p_sent))\n",
        "                    ground_truth.append(int(y_sent))\n",
        "                else:\n",
        "                    invalid_number_prediction_count += 1\n",
        "\n",
        "        all_model_predictions.append(model_predictions)\n",
        "        all_ground_truth.append(ground_truth)\n",
        "        invalid_number_prediction_counts.append(invalid_number_prediction_count)\n",
        "    for i, (gts, predictions, invalid_number_prediction_count) in enumerate(zip(all_ground_truth,\n",
        "                                                                            all_model_predictions,\n",
        "                                                                            invalid_number_prediction_counts), 1):\n",
        "        if len(gts)==0 or len(predictions)==0: pass\n",
        "    \n",
        "        else: \n",
        "          mae = mean_absolute_error(gts, predictions)######### YOUR CODE HERE #############\n",
        "          print(\"Epoch: %i, MAE: %f, Invalid numbers: %i\" % (i, mae, invalid_number_prediction_count))\n",
        "    print('\\n...training finished.')"
      ],
      "execution_count": 125,
      "outputs": [
        {
          "output_type": "stream",
          "text": [
            "Start training... \n",
            "\n",
            "Train: epoch 1\n",
            "Epoch: [1/10], step: [1/1250], loss: 3.089019\n",
            "Epoch: [1/10], step: [201/1250], loss: 2.740578\n",
            "Epoch: [1/10], step: [401/1250], loss: 2.580586\n",
            "Epoch: [1/10], step: [601/1250], loss: 2.524722\n",
            "Epoch: [1/10], step: [801/1250], loss: 2.446156\n",
            "Epoch: [1/10], step: [1001/1250], loss: 2.403213\n",
            "Epoch: [1/10], step: [1201/1250], loss: 2.384836\n",
            "Test: epoch 1 loss: 2.27581\n",
            "X: 5777+9507$\n",
            "Y: 15284$\n",
            "O: 11$\n",
            "\n",
            "X: 4244-9096$\n",
            "Y: -4852$\n",
            "O: 11$\n",
            "\n",
            "X: 3683+7204$\n",
            "Y: 10887$\n",
            "O: 11$\n",
            "\n",
            "Train: epoch 2\n",
            "Epoch: [2/10], step: [1/1250], loss: 2.386160\n",
            "Epoch: [2/10], step: [201/1250], loss: 2.341716\n",
            "Epoch: [2/10], step: [401/1250], loss: 2.329985\n",
            "Epoch: [2/10], step: [601/1250], loss: 2.303812\n",
            "Epoch: [2/10], step: [801/1250], loss: 2.298006\n",
            "Epoch: [2/10], step: [1001/1250], loss: 2.303967\n",
            "Epoch: [2/10], step: [1201/1250], loss: 2.275624\n",
            "Test: epoch 2 loss: 2.1751351\n",
            "X: 1930+242$#\n",
            "Y: 2172$#\n",
            "O: 111$#\n",
            "\n",
            "X: 3651-1420$\n",
            "Y: 2231$#\n",
            "O: 1111$\n",
            "\n",
            "X: 519-2773$#\n",
            "Y: -2254$\n",
            "O: 1111$\n",
            "\n",
            "Train: epoch 3\n",
            "Epoch: [3/10], step: [1/1250], loss: 2.277856\n",
            "Epoch: [3/10], step: [201/1250], loss: 2.290965\n",
            "Epoch: [3/10], step: [401/1250], loss: 2.270627\n",
            "Epoch: [3/10], step: [601/1250], loss: 2.268581\n",
            "Epoch: [3/10], step: [801/1250], loss: 2.258468\n",
            "Epoch: [3/10], step: [1001/1250], loss: 2.229319\n",
            "Epoch: [3/10], step: [1201/1250], loss: 2.244795\n",
            "Test: epoch 3 loss: 2.1754959\n",
            "X: 4688+2956$\n",
            "Y: 7644$#\n",
            "O: 1111$#\n",
            "\n",
            "X: 2798+7931$\n",
            "Y: 10729$\n",
            "O: 11111$\n",
            "\n",
            "X: 1266+1041$\n",
            "Y: 2307$#\n",
            "O: 11111$\n",
            "\n",
            "Train: epoch 4\n",
            "Epoch: [4/10], step: [1/1250], loss: 2.270442\n",
            "Epoch: [4/10], step: [201/1250], loss: 2.250937\n",
            "Epoch: [4/10], step: [401/1250], loss: 2.253608\n",
            "Epoch: [4/10], step: [601/1250], loss: 2.234396\n",
            "Epoch: [4/10], step: [801/1250], loss: 2.242001\n",
            "Epoch: [4/10], step: [1001/1250], loss: 2.227994\n",
            "Epoch: [4/10], step: [1201/1250], loss: 2.238140\n",
            "Test: epoch 4 loss: 2.1969173\n",
            "X: 8059+1046$\n",
            "Y: 9105$#\n",
            "O: 111111$\n",
            "\n",
            "X: 6511+8015$\n",
            "Y: 14526$\n",
            "O: 111111$\n",
            "\n",
            "X: 7516+9105$\n",
            "Y: 16621$\n",
            "O: 111111$\n",
            "\n",
            "Train: epoch 5\n",
            "Epoch: [5/10], step: [1/1250], loss: 2.230952\n",
            "Epoch: [5/10], step: [201/1250], loss: 2.244260\n",
            "Epoch: [5/10], step: [401/1250], loss: 2.235073\n",
            "Epoch: [5/10], step: [601/1250], loss: 2.199208\n",
            "Epoch: [5/10], step: [801/1250], loss: 2.245299\n",
            "Epoch: [5/10], step: [1001/1250], loss: 2.214938\n",
            "Epoch: [5/10], step: [1201/1250], loss: 2.208479\n",
            "Test: epoch 5 loss: 2.1563158\n",
            "X: 4547-9950$\n",
            "Y: -5403$\n",
            "O: -111111$\n",
            "\n",
            "X: 6876+2660$\n",
            "Y: 9536$#\n",
            "O: 111111$#\n",
            "\n",
            "X: 7247-6104$\n",
            "Y: 1143$#\n",
            "O: -111111$\n",
            "\n",
            "Train: epoch 6\n",
            "Epoch: [6/10], step: [1/1250], loss: 2.202559\n",
            "Epoch: [6/10], step: [201/1250], loss: 2.201193\n",
            "Epoch: [6/10], step: [401/1250], loss: 2.220803\n",
            "Epoch: [6/10], step: [601/1250], loss: 2.199145\n",
            "Epoch: [6/10], step: [801/1250], loss: 2.232571\n",
            "Epoch: [6/10], step: [1001/1250], loss: 2.226001\n",
            "Epoch: [6/10], step: [1201/1250], loss: 2.213208\n",
            "Test: epoch 6 loss: 2.1755264\n",
            "X: 2777-976$#\n",
            "Y: 1801$#\n",
            "O: -111111$\n",
            "\n",
            "X: 5529-111$#\n",
            "Y: 5418$#\n",
            "O: 111111$#\n",
            "\n",
            "X: 1206+1531$\n",
            "Y: 2737$#\n",
            "O: 111111$#\n",
            "\n",
            "Train: epoch 7\n",
            "Epoch: [7/10], step: [1/1250], loss: 2.229605\n",
            "Epoch: [7/10], step: [201/1250], loss: 2.208083\n",
            "Epoch: [7/10], step: [401/1250], loss: 2.232320\n",
            "Epoch: [7/10], step: [601/1250], loss: 2.205056\n",
            "Epoch: [7/10], step: [801/1250], loss: 2.195841\n",
            "Epoch: [7/10], step: [1001/1250], loss: 2.197822\n",
            "Epoch: [7/10], step: [1201/1250], loss: 2.209368\n",
            "Test: epoch 7 loss: 2.1662357\n",
            "X: 4461+875$#\n",
            "Y: 5336$#\n",
            "O: 111111$#\n",
            "\n",
            "X: 9382+5638$\n",
            "Y: 15020$\n",
            "O: 111111$#\n",
            "\n",
            "X: 8960-4623$\n",
            "Y: 4337$#\n",
            "O: 111111$#\n",
            "\n",
            "Train: epoch 8\n",
            "Epoch: [8/10], step: [1/1250], loss: 2.202927\n",
            "Epoch: [8/10], step: [201/1250], loss: 2.187124\n",
            "Epoch: [8/10], step: [401/1250], loss: 2.180663\n",
            "Epoch: [8/10], step: [601/1250], loss: 2.181478\n",
            "Epoch: [8/10], step: [801/1250], loss: 2.181139\n",
            "Epoch: [8/10], step: [1001/1250], loss: 2.177144\n",
            "Epoch: [8/10], step: [1201/1250], loss: 2.168588\n",
            "Test: epoch 8 loss: 2.1548615\n",
            "X: 8589-6654$\n",
            "Y: 1935$#\n",
            "O: -11111$#\n",
            "\n",
            "X: 786+5166$#\n",
            "Y: 5952$#\n",
            "O: 111111$#\n",
            "\n",
            "X: 652+1851$#\n",
            "Y: 2503$#\n",
            "O: 111111$#\n",
            "\n",
            "Train: epoch 9\n",
            "Epoch: [9/10], step: [1/1250], loss: 2.211529\n",
            "Epoch: [9/10], step: [201/1250], loss: 2.159558\n",
            "Epoch: [9/10], step: [401/1250], loss: 2.179005\n",
            "Epoch: [9/10], step: [601/1250], loss: 2.169913\n",
            "Epoch: [9/10], step: [801/1250], loss: 2.189733\n",
            "Epoch: [9/10], step: [1001/1250], loss: 2.175287\n",
            "Epoch: [9/10], step: [1201/1250], loss: 2.171723\n",
            "Test: epoch 9 loss: 2.1404254\n",
            "X: 8123+708$#\n",
            "Y: 8831$#\n",
            "O: 111111$#\n",
            "\n",
            "X: 4400+8718$\n",
            "Y: 13118$\n",
            "O: 111111$#\n",
            "\n",
            "X: 4559-3398$\n",
            "Y: 1161$#\n",
            "O: 1111111$\n",
            "\n",
            "Train: epoch 10\n",
            "Epoch: [10/10], step: [1/1250], loss: 2.203529\n",
            "Epoch: [10/10], step: [201/1250], loss: 2.154183\n",
            "Epoch: [10/10], step: [401/1250], loss: 2.157010\n",
            "Epoch: [10/10], step: [601/1250], loss: 2.209098\n",
            "Epoch: [10/10], step: [801/1250], loss: 2.167804\n",
            "Epoch: [10/10], step: [1001/1250], loss: 2.155618\n",
            "Epoch: [10/10], step: [1201/1250], loss: 2.147139\n",
            "Test: epoch 10 loss: 2.1436841\n",
            "X: 6696+4798$\n",
            "Y: 11494$\n",
            "O: 111111$#\n",
            "\n",
            "X: 1506-5453$\n",
            "Y: -3947$\n",
            "O: -111111$\n",
            "\n",
            "X: 3020-6823$\n",
            "Y: -3803$\n",
            "O: -111111$\n",
            "\n",
            "Epoch: 1, MAE: 6624.200525, Invalid numbers: 0\n",
            "Epoch: 2, MAE: 6643.911625, Invalid numbers: 0\n",
            "Epoch: 3, MAE: 4974.426625, Invalid numbers: 0\n",
            "Epoch: 4, MAE: 52983.997875, Invalid numbers: 0\n",
            "Epoch: 5, MAE: 107503.007675, Invalid numbers: 0\n",
            "Epoch: 6, MAE: 77961.777975, Invalid numbers: 0\n",
            "Epoch: 7, MAE: 191321.339175, Invalid numbers: 0\n",
            "Epoch: 8, MAE: 85160.401975, Invalid numbers: 0\n",
            "Epoch: 9, MAE: 148188.809075, Invalid numbers: 0\n",
            "Epoch: 10, MAE: 135116.963899, Invalid numbers: 1\n",
            "\n",
            "...training finished.\n",
            "Start training... \n",
            "\n",
            "Train: epoch 1\n",
            "Epoch: [1/10], step: [1/1250], loss: 2.844310\n",
            "Epoch: [1/10], step: [201/1250], loss: 2.485481\n",
            "Epoch: [1/10], step: [401/1250], loss: 2.332885\n",
            "Epoch: [1/10], step: [601/1250], loss: 2.265765\n",
            "Epoch: [1/10], step: [801/1250], loss: 2.258126\n",
            "Epoch: [1/10], step: [1001/1250], loss: 2.205405\n",
            "Epoch: [1/10], step: [1201/1250], loss: 2.204866\n",
            "Test: epoch 1 loss: 2.0776932\n",
            "X: 392+4944$#\n",
            "Y: 5336$#\n",
            "O: 1111$#\n",
            "\n",
            "X: 8281+3047$\n",
            "Y: 11328$\n",
            "O: 1111$#\n",
            "\n",
            "X: 188+5163$#\n",
            "Y: 5351$#\n",
            "O: 1111$#\n",
            "\n",
            "Train: epoch 2\n",
            "Epoch: [2/10], step: [1/1250], loss: 2.198918\n",
            "Epoch: [2/10], step: [201/1250], loss: 2.193544\n",
            "Epoch: [2/10], step: [401/1250], loss: 2.161986\n",
            "Epoch: [2/10], step: [601/1250], loss: 2.170866\n",
            "Epoch: [2/10], step: [801/1250], loss: 2.121944\n",
            "Epoch: [2/10], step: [1001/1250], loss: 2.150197\n",
            "Epoch: [2/10], step: [1201/1250], loss: 2.123838\n",
            "Test: epoch 2 loss: 2.1098127\n",
            "X: 5984+5729$\n",
            "Y: 11713$\n",
            "O: 11111$#\n",
            "\n",
            "X: 1229-7361$\n",
            "Y: -6132$\n",
            "O: -11111$\n",
            "\n",
            "X: 8875+8102$\n",
            "Y: 16977$\n",
            "O: 11111$#\n",
            "\n",
            "Train: epoch 3\n",
            "Epoch: [3/10], step: [1/1250], loss: 2.153092\n",
            "Epoch: [3/10], step: [201/1250], loss: 2.135738\n",
            "Epoch: [3/10], step: [401/1250], loss: 2.117110\n",
            "Epoch: [3/10], step: [601/1250], loss: 2.108982\n",
            "Epoch: [3/10], step: [801/1250], loss: 2.086009\n",
            "Epoch: [3/10], step: [1001/1250], loss: 2.141002\n",
            "Epoch: [3/10], step: [1201/1250], loss: 2.086221\n",
            "Test: epoch 3 loss: 2.122405\n",
            "X: 6711+1692$\n",
            "Y: 8403$#\n",
            "O: 11111$#\n",
            "\n",
            "X: 2101+1506$\n",
            "Y: 3607$#\n",
            "O: 11111$#\n",
            "\n",
            "X: 4554-4423$\n",
            "Y: 131$##\n",
            "O: -11111$\n",
            "\n",
            "Train: epoch 4\n",
            "Epoch: [4/10], step: [1/1250], loss: 2.107934\n",
            "Epoch: [4/10], step: [201/1250], loss: 2.127422\n",
            "Epoch: [4/10], step: [401/1250], loss: 2.086806\n",
            "Epoch: [4/10], step: [601/1250], loss: 2.092264\n",
            "Epoch: [4/10], step: [801/1250], loss: 2.103600\n",
            "Epoch: [4/10], step: [1001/1250], loss: 2.059757\n",
            "Epoch: [4/10], step: [1201/1250], loss: 2.072807\n",
            "Test: epoch 4 loss: 2.1240926\n",
            "X: 6954-4769$\n",
            "Y: 2185$#\n",
            "O: 111111$\n",
            "\n",
            "X: 7678+9306$\n",
            "Y: 16984$\n",
            "O: 111111$\n",
            "\n",
            "X: 4111+5109$\n",
            "Y: 9220$#\n",
            "O: 111111$\n",
            "\n",
            "Train: epoch 5\n",
            "Epoch: [5/10], step: [1/1250], loss: 2.078938\n",
            "Epoch: [5/10], step: [201/1250], loss: 2.097247\n",
            "Epoch: [5/10], step: [401/1250], loss: 2.049688\n",
            "Epoch: [5/10], step: [601/1250], loss: 2.104454\n",
            "Epoch: [5/10], step: [801/1250], loss: 2.060345\n",
            "Epoch: [5/10], step: [1001/1250], loss: 2.043436\n",
            "Epoch: [5/10], step: [1201/1250], loss: 2.036054\n",
            "Test: epoch 5 loss: 2.1380866\n",
            "X: 9932-478$#\n",
            "Y: 9454$#\n",
            "O: 11111$##\n",
            "\n",
            "X: 9611+8009$\n",
            "Y: 17620$\n",
            "O: 111111$#\n",
            "\n",
            "X: 6198-8406$\n",
            "Y: -2208$\n",
            "O: -111111$\n",
            "\n",
            "Train: epoch 6\n",
            "Epoch: [6/10], step: [1/1250], loss: 2.071264\n",
            "Epoch: [6/10], step: [201/1250], loss: 2.045772\n",
            "Epoch: [6/10], step: [401/1250], loss: 2.048368\n",
            "Epoch: [6/10], step: [601/1250], loss: 2.065825\n",
            "Epoch: [6/10], step: [801/1250], loss: 2.073303\n",
            "Epoch: [6/10], step: [1001/1250], loss: 2.014812\n",
            "Epoch: [6/10], step: [1201/1250], loss: 2.044514\n",
            "Test: epoch 6 loss: 2.1671445\n",
            "X: 4959-2713$\n",
            "Y: 2246$#\n",
            "O: 111111$#\n",
            "\n",
            "X: 793+8803$#\n",
            "Y: 9596$#\n",
            "O: 111111$#\n",
            "\n",
            "X: 8275-7415$\n",
            "Y: 860$##\n",
            "O: 1111111$\n",
            "\n",
            "Train: epoch 7\n",
            "Epoch: [7/10], step: [1/1250], loss: 2.062680\n",
            "Epoch: [7/10], step: [201/1250], loss: 2.049404\n",
            "Epoch: [7/10], step: [401/1250], loss: 2.065634\n",
            "Epoch: [7/10], step: [601/1250], loss: 2.019570\n",
            "Epoch: [7/10], step: [801/1250], loss: 2.039170\n",
            "Epoch: [7/10], step: [1001/1250], loss: 2.035040\n",
            "Epoch: [7/10], step: [1201/1250], loss: 1.992594\n",
            "Test: epoch 7 loss: 2.151459\n",
            "X: 1691-5240$\n",
            "Y: -3549$\n",
            "O: -11111$\n",
            "\n",
            "X: 449-866$##\n",
            "Y: -417$#\n",
            "O: -11111$\n",
            "\n",
            "X: 6876+2660$\n",
            "Y: 9536$#\n",
            "O: 111111$\n",
            "\n",
            "Train: epoch 8\n",
            "Epoch: [8/10], step: [1/1250], loss: 2.033827\n",
            "Epoch: [8/10], step: [201/1250], loss: 2.024665\n",
            "Epoch: [8/10], step: [401/1250], loss: 2.028943\n",
            "Epoch: [8/10], step: [601/1250], loss: 2.012228\n",
            "Epoch: [8/10], step: [801/1250], loss: 2.045270\n",
            "Epoch: [8/10], step: [1001/1250], loss: 2.028073\n",
            "Epoch: [8/10], step: [1201/1250], loss: 2.030161\n",
            "Test: epoch 8 loss: 2.1570146\n",
            "X: 9960+3941$\n",
            "Y: 13901$\n",
            "O: 1111111$\n",
            "\n",
            "X: 7147+4854$\n",
            "Y: 12001$\n",
            "O: 1111111$\n",
            "\n",
            "X: 6698-2220$\n",
            "Y: 4478$#\n",
            "O: 111111$#\n",
            "\n",
            "Train: epoch 9\n",
            "Epoch: [9/10], step: [1/1250], loss: 2.072092\n",
            "Epoch: [9/10], step: [201/1250], loss: 2.020994\n",
            "Epoch: [9/10], step: [401/1250], loss: 2.068241\n",
            "Epoch: [9/10], step: [601/1250], loss: 2.033059\n",
            "Epoch: [9/10], step: [801/1250], loss: 1.975389\n",
            "Epoch: [9/10], step: [1001/1250], loss: 2.023817\n",
            "Epoch: [9/10], step: [1201/1250], loss: 2.035454\n",
            "Test: epoch 9 loss: 2.0950577\n",
            "X: 9277-1991$\n",
            "Y: 7286$#\n",
            "O: 111111$#\n",
            "\n",
            "X: 6946+4471$\n",
            "Y: 11417$\n",
            "O: 111111$#\n",
            "\n",
            "X: 3388+8823$\n",
            "Y: 12211$\n",
            "O: 111111$#\n",
            "\n",
            "Train: epoch 10\n",
            "Epoch: [10/10], step: [1/1250], loss: 2.036553\n",
            "Epoch: [10/10], step: [201/1250], loss: 1.967348\n",
            "Epoch: [10/10], step: [401/1250], loss: 1.966092\n",
            "Epoch: [10/10], step: [601/1250], loss: 1.973739\n",
            "Epoch: [10/10], step: [801/1250], loss: 2.010322\n",
            "Epoch: [10/10], step: [1001/1250], loss: 2.044459\n",
            "Epoch: [10/10], step: [1201/1250], loss: 2.020355\n",
            "Test: epoch 10 loss: 2.1457283\n",
            "X: 133+4913$#\n",
            "Y: 5046$#\n",
            "O: 111111$#\n",
            "\n",
            "X: 1912+6130$\n",
            "Y: 8042$#\n",
            "O: 1111112$\n",
            "\n",
            "X: 2991+408$#\n",
            "Y: 3399$#\n",
            "O: 111111$#\n",
            "\n",
            "Epoch: 1, MAE: 6123.794725, Invalid numbers: 0\n",
            "Epoch: 2, MAE: 3737.201375, Invalid numbers: 0\n",
            "Epoch: 3, MAE: 23476.506425, Invalid numbers: 0\n",
            "Epoch: 4, MAE: 78620.137075, Invalid numbers: 0\n",
            "Epoch: 5, MAE: 107399.216325, Invalid numbers: 0\n",
            "Epoch: 6, MAE: 229804.075175, Invalid numbers: 0\n",
            "Epoch: 7, MAE: 67940.804425, Invalid numbers: 0\n",
            "Epoch: 8, MAE: 488707.131225, Invalid numbers: 0\n",
            "Epoch: 9, MAE: 100745.140075, Invalid numbers: 0\n",
            "Epoch: 10, MAE: 634418.253575, Invalid numbers: 0\n",
            "\n",
            "...training finished.\n",
            "Start training... \n",
            "\n",
            "Train: epoch 1\n",
            "Epoch: [1/10], step: [1/1250], loss: 2.768262\n",
            "Epoch: [1/10], step: [201/1250], loss: 2.353458\n",
            "Epoch: [1/10], step: [401/1250], loss: 2.268157\n",
            "Epoch: [1/10], step: [601/1250], loss: 2.148747\n",
            "Epoch: [1/10], step: [801/1250], loss: 2.101099\n",
            "Epoch: [1/10], step: [1001/1250], loss: 2.096294\n",
            "Epoch: [1/10], step: [1201/1250], loss: 2.071903\n",
            "Test: epoch 1 loss: 1.9354247\n",
            "X: 9493+1262$\n",
            "Y: 10755$\n",
            "O: 11111$\n",
            "\n",
            "X: 2020-6169$\n",
            "Y: -4149$\n",
            "O: -1111$\n",
            "\n",
            "X: 8067-8909$\n",
            "Y: -842$#\n",
            "O: -1111$\n",
            "\n",
            "Train: epoch 2\n",
            "Epoch: [2/10], step: [1/1250], loss: 2.052910\n",
            "Epoch: [2/10], step: [201/1250], loss: 2.039908\n",
            "Epoch: [2/10], step: [401/1250], loss: 2.021914\n",
            "Epoch: [2/10], step: [601/1250], loss: 2.039260\n",
            "Epoch: [2/10], step: [801/1250], loss: 2.009907\n",
            "Epoch: [2/10], step: [1001/1250], loss: 1.968974\n",
            "Epoch: [2/10], step: [1201/1250], loss: 1.985942\n",
            "Test: epoch 2 loss: 1.8501947\n",
            "X: 685-4459$#\n",
            "Y: -3774$\n",
            "O: -1122$\n",
            "\n",
            "X: 3303+3898$\n",
            "Y: 7201$#\n",
            "O: 11125$\n",
            "\n",
            "X: 7803-7012$\n",
            "Y: 791$##\n",
            "O: -1122$\n",
            "\n",
            "Train: epoch 3\n",
            "Epoch: [3/10], step: [1/1250], loss: 1.974679\n",
            "Epoch: [3/10], step: [201/1250], loss: 1.970271\n",
            "Epoch: [3/10], step: [401/1250], loss: 1.950295\n",
            "Epoch: [3/10], step: [601/1250], loss: 1.972674\n",
            "Epoch: [3/10], step: [801/1250], loss: 1.963550\n",
            "Epoch: [3/10], step: [1001/1250], loss: 1.886303\n",
            "Epoch: [3/10], step: [1201/1250], loss: 1.931429\n",
            "Test: epoch 3 loss: 1.8014753\n",
            "X: 4390+4392$\n",
            "Y: 8782$#\n",
            "O: 1111$#\n",
            "\n",
            "X: 6835+2854$\n",
            "Y: 9689$#\n",
            "O: 11119$\n",
            "\n",
            "X: 4803+1506$\n",
            "Y: 6309$#\n",
            "O: 1111$#\n",
            "\n",
            "Train: epoch 4\n",
            "Epoch: [4/10], step: [1/1250], loss: 1.976502\n",
            "Epoch: [4/10], step: [201/1250], loss: 1.941995\n",
            "Epoch: [4/10], step: [401/1250], loss: 1.937223\n",
            "Epoch: [4/10], step: [601/1250], loss: 1.889254\n",
            "Epoch: [4/10], step: [801/1250], loss: 1.954097\n",
            "Epoch: [4/10], step: [1001/1250], loss: 1.925339\n",
            "Epoch: [4/10], step: [1201/1250], loss: 1.939181\n",
            "Test: epoch 4 loss: 1.7704301\n",
            "X: 3597+1279$\n",
            "Y: 4876$#\n",
            "O: 1110$#\n",
            "\n",
            "X: 5877+6832$\n",
            "Y: 12709$\n",
            "O: 11110$\n",
            "\n",
            "X: 142-2392$#\n",
            "Y: -2250$\n",
            "O: -1110$\n",
            "\n",
            "Train: epoch 5\n",
            "Epoch: [5/10], step: [1/1250], loss: 1.914557\n",
            "Epoch: [5/10], step: [201/1250], loss: 1.896446\n",
            "Epoch: [5/10], step: [401/1250], loss: 1.867501\n",
            "Epoch: [5/10], step: [601/1250], loss: 1.928789\n",
            "Epoch: [5/10], step: [801/1250], loss: 1.946968\n",
            "Epoch: [5/10], step: [1001/1250], loss: 1.883427\n",
            "Epoch: [5/10], step: [1201/1250], loss: 1.870332\n",
            "Test: epoch 5 loss: 1.7912774\n",
            "X: 7289+999$#\n",
            "Y: 8288$#\n",
            "O: 11110$\n",
            "\n",
            "X: 3448-6894$\n",
            "Y: -3446$\n",
            "O: -1110$\n",
            "\n",
            "X: 8987+4305$\n",
            "Y: 13292$\n",
            "O: 11110$\n",
            "\n",
            "Train: epoch 6\n",
            "Epoch: [6/10], step: [1/1250], loss: 1.852741\n",
            "Epoch: [6/10], step: [201/1250], loss: 1.864278\n",
            "Epoch: [6/10], step: [401/1250], loss: 1.864594\n",
            "Epoch: [6/10], step: [601/1250], loss: 1.857669\n",
            "Epoch: [6/10], step: [801/1250], loss: 1.870844\n",
            "Epoch: [6/10], step: [1001/1250], loss: 1.872205\n",
            "Epoch: [6/10], step: [1201/1250], loss: 1.920700\n",
            "Test: epoch 6 loss: 1.7310978\n",
            "X: 1646-3711$\n",
            "Y: -2065$\n",
            "O: -1110$\n",
            "\n",
            "X: 1209+1745$\n",
            "Y: 2954$#\n",
            "O: 2110$#\n",
            "\n",
            "X: 993+3954$#\n",
            "Y: 4947$#\n",
            "O: 11110$\n",
            "\n",
            "Train: epoch 7\n",
            "Epoch: [7/10], step: [1/1250], loss: 1.873913\n",
            "Epoch: [7/10], step: [201/1250], loss: 1.879551\n",
            "Epoch: [7/10], step: [401/1250], loss: 1.839611\n",
            "Epoch: [7/10], step: [601/1250], loss: 1.856699\n",
            "Epoch: [7/10], step: [801/1250], loss: 1.906456\n",
            "Epoch: [7/10], step: [1001/1250], loss: 1.863713\n",
            "Epoch: [7/10], step: [1201/1250], loss: 1.886253\n",
            "Test: epoch 7 loss: 1.749947\n",
            "X: 5310-1892$\n",
            "Y: 3418$#\n",
            "O: 1110$#\n",
            "\n",
            "X: 6789-5482$\n",
            "Y: 1307$#\n",
            "O: 1110$#\n",
            "\n",
            "X: 3956-8080$\n",
            "Y: -4124$\n",
            "O: -1110$\n",
            "\n",
            "Train: epoch 8\n",
            "Epoch: [8/10], step: [1/1250], loss: 1.899639\n",
            "Epoch: [8/10], step: [201/1250], loss: 1.855082\n",
            "Epoch: [8/10], step: [401/1250], loss: 1.876026\n",
            "Epoch: [8/10], step: [601/1250], loss: 1.844847\n",
            "Epoch: [8/10], step: [801/1250], loss: 1.877315\n",
            "Epoch: [8/10], step: [1001/1250], loss: 1.847477\n",
            "Epoch: [8/10], step: [1201/1250], loss: 1.857838\n",
            "Test: epoch 8 loss: 1.7370747\n",
            "X: 1978+5580$\n",
            "Y: 7558$#\n",
            "O: 1111$#\n",
            "\n",
            "X: 856-8418$#\n",
            "Y: -7562$\n",
            "O: -1110$\n",
            "\n",
            "X: 3667-8680$\n",
            "Y: -5013$\n",
            "O: -1110$\n",
            "\n",
            "Train: epoch 9\n",
            "Epoch: [9/10], step: [1/1250], loss: 1.856694\n",
            "Epoch: [9/10], step: [201/1250], loss: 1.812949\n",
            "Epoch: [9/10], step: [401/1250], loss: 1.866808\n",
            "Epoch: [9/10], step: [601/1250], loss: 1.853399\n",
            "Epoch: [9/10], step: [801/1250], loss: 1.863946\n",
            "Epoch: [9/10], step: [1001/1250], loss: 1.843820\n",
            "Epoch: [9/10], step: [1201/1250], loss: 1.837083\n",
            "Test: epoch 9 loss: 1.742731\n",
            "X: 8685+9995$\n",
            "Y: 18680$\n",
            "O: 11110$\n",
            "\n",
            "X: 137+2137$#\n",
            "Y: 2274$#\n",
            "O: 3110$#\n",
            "\n",
            "X: 354+4785$#\n",
            "Y: 5139$#\n",
            "O: 1110$#\n",
            "\n",
            "Train: epoch 10\n",
            "Epoch: [10/10], step: [1/1250], loss: 1.861556\n",
            "Epoch: [10/10], step: [201/1250], loss: 1.833852\n",
            "Epoch: [10/10], step: [401/1250], loss: 1.873576\n",
            "Epoch: [10/10], step: [601/1250], loss: 1.834938\n",
            "Epoch: [10/10], step: [801/1250], loss: 1.870176\n",
            "Epoch: [10/10], step: [1001/1250], loss: 1.869428\n",
            "Epoch: [10/10], step: [1201/1250], loss: 1.857526\n",
            "Test: epoch 10 loss: 1.7233434\n",
            "X: 2813+49$##\n",
            "Y: 2862$#\n",
            "O: 1110$#\n",
            "\n",
            "X: 593+2498$#\n",
            "Y: 3091$#\n",
            "O: 3110$#\n",
            "\n",
            "X: 4604-8364$\n",
            "Y: -3760$\n",
            "O: -1110$\n",
            "\n",
            "Epoch: 1, MAE: 3370.468925, Invalid numbers: 0\n",
            "Epoch: 2, MAE: 3113.477725, Invalid numbers: 0\n",
            "Epoch: 3, MAE: 3076.829975, Invalid numbers: 0\n",
            "Epoch: 4, MAE: 3037.698150, Invalid numbers: 0\n",
            "Epoch: 5, MAE: 3376.263650, Invalid numbers: 0\n",
            "Epoch: 6, MAE: 3108.552950, Invalid numbers: 0\n",
            "Epoch: 7, MAE: 3311.448675, Invalid numbers: 0\n",
            "Epoch: 8, MAE: 3026.587200, Invalid numbers: 0\n",
            "Epoch: 9, MAE: 3137.022650, Invalid numbers: 0\n",
            "Epoch: 10, MAE: 3133.585000, Invalid numbers: 0\n",
            "\n",
            "...training finished.\n",
            "Start training... \n",
            "\n",
            "Train: epoch 1\n",
            "Epoch: [1/10], step: [1/1250], loss: 2.784453\n",
            "Epoch: [1/10], step: [201/1250], loss: 2.316906\n",
            "Epoch: [1/10], step: [401/1250], loss: 2.151682\n",
            "Epoch: [1/10], step: [601/1250], loss: 2.050536\n",
            "Epoch: [1/10], step: [801/1250], loss: 2.002165\n",
            "Epoch: [1/10], step: [1001/1250], loss: 1.958284\n",
            "Epoch: [1/10], step: [1201/1250], loss: 1.965994\n",
            "Test: epoch 1 loss: 1.8800627\n",
            "X: 1313+9515$\n",
            "Y: 10828$\n",
            "O: 1111$\n",
            "\n",
            "X: 8320-851$#\n",
            "Y: 7469$#\n",
            "O: -111$\n",
            "\n",
            "X: 521-1400$#\n",
            "Y: -879$#\n",
            "O: -111$\n",
            "\n",
            "Train: epoch 2\n",
            "Epoch: [2/10], step: [1/1250], loss: 1.959550\n",
            "Epoch: [2/10], step: [201/1250], loss: 1.940021\n",
            "Epoch: [2/10], step: [401/1250], loss: 1.884590\n",
            "Epoch: [2/10], step: [601/1250], loss: 1.863191\n",
            "Epoch: [2/10], step: [801/1250], loss: 1.862154\n",
            "Epoch: [2/10], step: [1001/1250], loss: 1.858299\n",
            "Epoch: [2/10], step: [1201/1250], loss: 1.841443\n",
            "Test: epoch 2 loss: 1.7832327\n",
            "X: 1679-8498$\n",
            "Y: -6819$\n",
            "O: -1211$\n",
            "\n",
            "X: 590-8689$#\n",
            "Y: -8099$\n",
            "O: -1111$\n",
            "\n",
            "X: 1771-4907$\n",
            "Y: -3136$\n",
            "O: -1111$\n",
            "\n",
            "Train: epoch 3\n",
            "Epoch: [3/10], step: [1/1250], loss: 1.820671\n",
            "Epoch: [3/10], step: [201/1250], loss: 1.859935\n",
            "Epoch: [3/10], step: [401/1250], loss: 1.842167\n",
            "Epoch: [3/10], step: [601/1250], loss: 1.844492\n",
            "Epoch: [3/10], step: [801/1250], loss: 1.797136\n",
            "Epoch: [3/10], step: [1001/1250], loss: 1.797798\n",
            "Epoch: [3/10], step: [1201/1250], loss: 1.795586\n",
            "Test: epoch 3 loss: 1.7372988\n",
            "X: 3628+414$#\n",
            "Y: 4042$#\n",
            "O: 1220$#\n",
            "\n",
            "X: 7399-4678$\n",
            "Y: 2721$#\n",
            "O: 1220$#\n",
            "\n",
            "X: 8215+840$#\n",
            "Y: 9055$#\n",
            "O: 12111$\n",
            "\n",
            "Train: epoch 4\n",
            "Epoch: [4/10], step: [1/1250], loss: 1.781414\n",
            "Epoch: [4/10], step: [201/1250], loss: 1.787557\n",
            "Epoch: [4/10], step: [401/1250], loss: 1.796774\n",
            "Epoch: [4/10], step: [601/1250], loss: 1.813727\n",
            "Epoch: [4/10], step: [801/1250], loss: 1.785146\n",
            "Epoch: [4/10], step: [1001/1250], loss: 1.754716\n",
            "Epoch: [4/10], step: [1201/1250], loss: 1.759801\n",
            "Test: epoch 4 loss: 1.6965963\n",
            "X: 7142+961$#\n",
            "Y: 8103$#\n",
            "O: 13111$\n",
            "\n",
            "X: 3103+8824$\n",
            "Y: 11927$\n",
            "O: 13111$\n",
            "\n",
            "X: 1951+4307$\n",
            "Y: 6258$#\n",
            "O: 3227$#\n",
            "\n",
            "Train: epoch 5\n",
            "Epoch: [5/10], step: [1/1250], loss: 1.761800\n",
            "Epoch: [5/10], step: [201/1250], loss: 1.797718\n",
            "Epoch: [5/10], step: [401/1250], loss: 1.773326\n",
            "Epoch: [5/10], step: [601/1250], loss: 1.762987\n",
            "Epoch: [5/10], step: [801/1250], loss: 1.757327\n",
            "Epoch: [5/10], step: [1001/1250], loss: 1.756712\n",
            "Epoch: [5/10], step: [1201/1250], loss: 1.782610\n",
            "Test: epoch 5 loss: 1.6817236\n",
            "X: 7603-708$#\n",
            "Y: 6895$#\n",
            "O: 1111$#\n",
            "\n",
            "X: 8035+3178$\n",
            "Y: 11213$\n",
            "O: 13111$\n",
            "\n",
            "X: 1879+9808$\n",
            "Y: 11687$\n",
            "O: 13111$\n",
            "\n",
            "Train: epoch 6\n",
            "Epoch: [6/10], step: [1/1250], loss: 1.784635\n",
            "Epoch: [6/10], step: [201/1250], loss: 1.810112\n",
            "Epoch: [6/10], step: [401/1250], loss: 1.730308\n",
            "Epoch: [6/10], step: [601/1250], loss: 1.781793\n",
            "Epoch: [6/10], step: [801/1250], loss: 1.791849\n",
            "Epoch: [6/10], step: [1001/1250], loss: 1.769251\n",
            "Epoch: [6/10], step: [1201/1250], loss: 1.729234\n",
            "Test: epoch 6 loss: 1.6952364\n",
            "X: 8801-4574$\n",
            "Y: 4227$#\n",
            "O: 3221$#\n",
            "\n",
            "X: 5626+5390$\n",
            "Y: 11016$\n",
            "O: 13111$\n",
            "\n",
            "X: 6332-5342$\n",
            "Y: 990$##\n",
            "O: 2111$#\n",
            "\n",
            "Train: epoch 7\n",
            "Epoch: [7/10], step: [1/1250], loss: 1.749031\n",
            "Epoch: [7/10], step: [201/1250], loss: 1.742848\n",
            "Epoch: [7/10], step: [401/1250], loss: 1.722835\n",
            "Epoch: [7/10], step: [601/1250], loss: 1.716836\n",
            "Epoch: [7/10], step: [801/1250], loss: 1.781374\n",
            "Epoch: [7/10], step: [1001/1250], loss: 1.749730\n",
            "Epoch: [7/10], step: [1201/1250], loss: 1.728963\n",
            "Test: epoch 7 loss: 1.6627243\n",
            "X: 5817+3402$\n",
            "Y: 9219$#\n",
            "O: 11111$\n",
            "\n",
            "X: 3499-6393$\n",
            "Y: -2894$\n",
            "O: -2111$\n",
            "\n",
            "X: 4053+3017$\n",
            "Y: 7070$#\n",
            "O: 1221$#\n",
            "\n",
            "Train: epoch 8\n",
            "Epoch: [8/10], step: [1/1250], loss: 1.743750\n",
            "Epoch: [8/10], step: [201/1250], loss: 1.766788\n",
            "Epoch: [8/10], step: [401/1250], loss: 1.801532\n",
            "Epoch: [8/10], step: [601/1250], loss: 1.729179\n",
            "Epoch: [8/10], step: [801/1250], loss: 1.730888\n",
            "Epoch: [8/10], step: [1001/1250], loss: 1.726671\n",
            "Epoch: [8/10], step: [1201/1250], loss: 1.726557\n",
            "Test: epoch 8 loss: 1.6758299\n",
            "X: 6166+9944$\n",
            "Y: 16110$\n",
            "O: 13111$\n",
            "\n",
            "X: 4688-4915$\n",
            "Y: -227$#\n",
            "O: -121$#\n",
            "\n",
            "X: 3680+1131$\n",
            "Y: 4811$#\n",
            "O: 3329$#\n",
            "\n",
            "Train: epoch 9\n",
            "Epoch: [9/10], step: [1/1250], loss: 1.724968\n",
            "Epoch: [9/10], step: [201/1250], loss: 1.728780\n",
            "Epoch: [9/10], step: [401/1250], loss: 1.741843\n",
            "Epoch: [9/10], step: [601/1250], loss: 1.763345\n",
            "Epoch: [9/10], step: [801/1250], loss: 1.727775\n",
            "Epoch: [9/10], step: [1001/1250], loss: 1.717005\n",
            "Epoch: [9/10], step: [1201/1250], loss: 1.740760\n",
            "Test: epoch 9 loss: 1.6563702\n",
            "X: 7460+2783$\n",
            "Y: 10243$\n",
            "O: 11111$\n",
            "\n",
            "X: 8522+1466$\n",
            "Y: 9988$#\n",
            "O: 11111$\n",
            "\n",
            "X: 9702+770$#\n",
            "Y: 10472$\n",
            "O: 11111$\n",
            "\n",
            "Train: epoch 10\n",
            "Epoch: [10/10], step: [1/1250], loss: 1.733060\n",
            "Epoch: [10/10], step: [201/1250], loss: 1.741560\n",
            "Epoch: [10/10], step: [401/1250], loss: 1.732428\n",
            "Epoch: [10/10], step: [601/1250], loss: 1.735498\n",
            "Epoch: [10/10], step: [801/1250], loss: 1.727297\n",
            "Epoch: [10/10], step: [1001/1250], loss: 1.704309\n",
            "Epoch: [10/10], step: [1201/1250], loss: 1.730512\n",
            "Test: epoch 10 loss: 1.6576269\n",
            "X: 7895+7534$\n",
            "Y: 15429$\n",
            "O: 13111$\n",
            "\n",
            "X: 6744-2499$\n",
            "Y: 4245$#\n",
            "O: 4011$#\n",
            "\n",
            "X: 3771+1929$\n",
            "Y: 5700$#\n",
            "O: 4479$#\n",
            "\n",
            "Epoch: 1, MAE: 6078.910825, Invalid numbers: 0\n",
            "Epoch: 2, MAE: 3170.569275, Invalid numbers: 0\n",
            "Epoch: 3, MAE: 2795.638875, Invalid numbers: 0\n",
            "Epoch: 4, MAE: 2550.482925, Invalid numbers: 0\n",
            "Epoch: 5, MAE: 2457.558325, Invalid numbers: 0\n",
            "Epoch: 6, MAE: 2308.892100, Invalid numbers: 0\n",
            "Epoch: 7, MAE: 2173.162725, Invalid numbers: 0\n",
            "Epoch: 8, MAE: 2045.822950, Invalid numbers: 0\n",
            "Epoch: 9, MAE: 1994.075850, Invalid numbers: 0\n",
            "Epoch: 10, MAE: 1899.622850, Invalid numbers: 0\n",
            "\n",
            "...training finished.\n"
          ],
          "name": "stdout"
        }
      ]
    },
    {
      "cell_type": "markdown",
      "metadata": {
        "id": "4MzRKUEXhnEx",
        "colab_type": "text"
      },
      "source": [
        "## Evaluate results\n",
        "\n",
        "Because our task is simple and the output is straight-forward, we will use [MAE](https://en.wikipedia.org/wiki/Mean_absolute_error) metric to evaluate the trained model during the epochs. Compute the value of the metric for the output from each epoch."
      ]
    },
    {
      "cell_type": "code",
      "metadata": {
        "id": "vyHcYIQLhnEx",
        "colab_type": "code",
        "colab": {}
      },
      "source": [
        "from sklearn.metrics import mean_absolute_error"
      ],
      "execution_count": 0,
      "outputs": []
    },
    {
      "cell_type": "code",
      "metadata": {
        "id": "_xen_dcxhnE0",
        "colab_type": "code",
        "colab": {
          "base_uri": "https://localhost:8080/",
          "height": 104
        },
        "outputId": "44d4967e-77a2-4e5a-fefa-c6f6c58d1352"
      },
      "source": [
        "for i, (gts, predictions, invalid_number_prediction_count) in enumerate(zip(all_ground_truth,\n",
        "                                                                            all_model_predictions,\n",
        "                                                                            invalid_number_prediction_counts), 1):\n",
        "    if len(gts)==0 or len(predictions)==0: pass\n",
        "    \n",
        "    else: \n",
        "      mae = mean_absolute_error(gts, predictions)######### YOUR CODE HERE #############\n",
        "      print(\"Epoch: %i, MAE: %f, Invalid numbers: %i\" % (i, mae, invalid_number_prediction_count))"
      ],
      "execution_count": 120,
      "outputs": [
        {
          "output_type": "stream",
          "text": [
            "Epoch: 6, MAE: 6629.107625, Invalid numbers: 0\n",
            "Epoch: 7, MAE: 6624.200275, Invalid numbers: 0\n",
            "Epoch: 8, MAE: 6143.920825, Invalid numbers: 0\n",
            "Epoch: 9, MAE: 106156.851875, Invalid numbers: 0\n",
            "Epoch: 10, MAE: 4739164.351875, Invalid numbers: 0\n"
          ],
          "name": "stdout"
        }
      ]
    }
  ]
}